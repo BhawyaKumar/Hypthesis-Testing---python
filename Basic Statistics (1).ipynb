{
 "cells": [
  {
   "cell_type": "code",
   "execution_count": 79,
   "id": "ec239cf6-cf08-403f-b3d2-e842ac5fcfb4",
   "metadata": {},
   "outputs": [],
   "source": [
    "import pandas as pd\n",
    "import numpy as np\n",
    "import matplotlib.pyplot as plt\n",
    "import datetime as datetime\n",
    "import seaborn as sns\n",
    "import re\n",
    "from scipy.stats import norm\n",
    "import scipy.stats as stats\n",
    "import os\n",
    "\n",
    "# set the graphs to show in the jupyter notebook\n",
    "%matplotlib inline\n"
   ]
  },
  {
   "cell_type": "code",
   "execution_count": 80,
   "id": "d3272585-3d46-40d0-9f6c-0b16fc3333de",
   "metadata": {},
   "outputs": [],
   "source": [
    "# importing the data\n",
    "\n",
    "loansdata = pd.read_csv(r'C:\\Users\\DELL\\Desktop\\Python\\4. Basic Statistics - Hypothesis Testing\\LoansData.csv')"
   ]
  },
  {
   "cell_type": "markdown",
   "id": "74416a61-0f79-4875-b602-40ecfc9abc3d",
   "metadata": {},
   "source": [
    "Data Wrangling"
   ]
  },
  {
   "cell_type": "code",
   "execution_count": 82,
   "id": "806cd891-552e-461f-b663-7feab6e55fb8",
   "metadata": {},
   "outputs": [
    {
     "name": "stdout",
     "output_type": "stream",
     "text": [
      "<class 'pandas.core.frame.DataFrame'>\n",
      "RangeIndex: 2500 entries, 0 to 2499\n",
      "Data columns (total 14 columns):\n",
      " #   Column                          Non-Null Count  Dtype  \n",
      "---  ------                          --------------  -----  \n",
      " 0   Amount.Requested                2499 non-null   float64\n",
      " 1   Amount.Funded.By.Investors      2499 non-null   float64\n",
      " 2   Interest.Rate                   2498 non-null   object \n",
      " 3   Loan.Length                     2500 non-null   object \n",
      " 4   Loan.Purpose                    2500 non-null   object \n",
      " 5   Debt.To.Income.Ratio            2499 non-null   object \n",
      " 6   State                           2500 non-null   object \n",
      " 7   Home.Ownership                  2499 non-null   object \n",
      " 8   Monthly.Income                  2499 non-null   float64\n",
      " 9   FICO.Range                      2498 non-null   object \n",
      " 10  Open.CREDIT.Lines               2497 non-null   float64\n",
      " 11  Revolving.CREDIT.Balance        2497 non-null   float64\n",
      " 12  Inquiries.in.the.Last.6.Months  2497 non-null   float64\n",
      " 13  Employment.Length               2423 non-null   object \n",
      "dtypes: float64(6), object(8)\n",
      "memory usage: 273.6+ KB\n"
     ]
    }
   ],
   "source": [
    "loansdata.info()"
   ]
  },
  {
   "cell_type": "code",
   "execution_count": 83,
   "id": "c242a81f-a90b-4e0a-82cc-1ff5f4b76ee3",
   "metadata": {},
   "outputs": [
    {
     "data": {
      "text/plain": [
       "Amount.Requested                   1\n",
       "Amount.Funded.By.Investors         1\n",
       "Interest.Rate                      2\n",
       "Loan.Length                        0\n",
       "Loan.Purpose                       0\n",
       "Debt.To.Income.Ratio               1\n",
       "State                              0\n",
       "Home.Ownership                     1\n",
       "Monthly.Income                     1\n",
       "FICO.Range                         2\n",
       "Open.CREDIT.Lines                  3\n",
       "Revolving.CREDIT.Balance           3\n",
       "Inquiries.in.the.Last.6.Months     3\n",
       "Employment.Length                 77\n",
       "dtype: int64"
      ]
     },
     "execution_count": 83,
     "metadata": {},
     "output_type": "execute_result"
    }
   ],
   "source": [
    "loansdata.isna().sum()"
   ]
  },
  {
   "cell_type": "code",
   "execution_count": 84,
   "id": "9a713949-6a0e-4e74-88ee-c9f21946f40f",
   "metadata": {},
   "outputs": [],
   "source": [
    "loansdata.dropna(inplace = True)"
   ]
  },
  {
   "cell_type": "code",
   "execution_count": 85,
   "id": "2ec574e5-583c-4389-923b-8aa1d01ec096",
   "metadata": {},
   "outputs": [
    {
     "data": {
      "text/plain": [
       "0"
      ]
     },
     "execution_count": 85,
     "metadata": {},
     "output_type": "execute_result"
    }
   ],
   "source": [
    "loansdata.duplicated().sum()"
   ]
  },
  {
   "cell_type": "code",
   "execution_count": 86,
   "id": "3e84b4d7-f4ab-47c1-bd73-b18a57faec2f",
   "metadata": {},
   "outputs": [],
   "source": [
    "loansdata['Interest.Rate'] = loansdata['Interest.Rate'].str.replace('%','').astype('float')"
   ]
  },
  {
   "cell_type": "code",
   "execution_count": 87,
   "id": "f4359c17-c450-4fae-8bc5-62ab62704d82",
   "metadata": {},
   "outputs": [
    {
     "data": {
      "text/plain": [
       "Amount.Requested                  float64\n",
       "Amount.Funded.By.Investors        float64\n",
       "Interest.Rate                     float64\n",
       "Loan.Length                        object\n",
       "Loan.Purpose                       object\n",
       "Debt.To.Income.Ratio               object\n",
       "State                              object\n",
       "Home.Ownership                     object\n",
       "Monthly.Income                    float64\n",
       "FICO.Range                         object\n",
       "Open.CREDIT.Lines                 float64\n",
       "Revolving.CREDIT.Balance          float64\n",
       "Inquiries.in.the.Last.6.Months    float64\n",
       "Employment.Length                  object\n",
       "dtype: object"
      ]
     },
     "execution_count": 87,
     "metadata": {},
     "output_type": "execute_result"
    }
   ],
   "source": [
    "loansdata.dtypes"
   ]
  },
  {
   "cell_type": "code",
   "execution_count": 88,
   "id": "f78f1ff1-c61d-40c8-ab30-77e10f4a5b7f",
   "metadata": {},
   "outputs": [],
   "source": [
    "#EDA"
   ]
  },
  {
   "cell_type": "code",
   "execution_count": 89,
   "id": "cdd1421f-9a78-4b8d-acb2-cb5dd1553d62",
   "metadata": {},
   "outputs": [
    {
     "data": {
      "text/html": [
       "<div>\n",
       "<style scoped>\n",
       "    .dataframe tbody tr th:only-of-type {\n",
       "        vertical-align: middle;\n",
       "    }\n",
       "\n",
       "    .dataframe tbody tr th {\n",
       "        vertical-align: top;\n",
       "    }\n",
       "\n",
       "    .dataframe thead th {\n",
       "        text-align: right;\n",
       "    }\n",
       "</style>\n",
       "<table border=\"1\" class=\"dataframe\">\n",
       "  <thead>\n",
       "    <tr style=\"text-align: right;\">\n",
       "      <th></th>\n",
       "      <th>count</th>\n",
       "      <th>mean</th>\n",
       "      <th>std</th>\n",
       "      <th>min</th>\n",
       "      <th>25%</th>\n",
       "      <th>50%</th>\n",
       "      <th>75%</th>\n",
       "      <th>max</th>\n",
       "    </tr>\n",
       "  </thead>\n",
       "  <tbody>\n",
       "    <tr>\n",
       "      <th>Amount.Requested</th>\n",
       "      <td>2413.0</td>\n",
       "      <td>12491.556154</td>\n",
       "      <td>7783.902098</td>\n",
       "      <td>1000.00</td>\n",
       "      <td>6000.00</td>\n",
       "      <td>10000.00</td>\n",
       "      <td>17000.00</td>\n",
       "      <td>35000.00</td>\n",
       "    </tr>\n",
       "    <tr>\n",
       "      <th>Amount.Funded.By.Investors</th>\n",
       "      <td>2413.0</td>\n",
       "      <td>12074.038388</td>\n",
       "      <td>7727.846537</td>\n",
       "      <td>-0.01</td>\n",
       "      <td>6000.00</td>\n",
       "      <td>10000.00</td>\n",
       "      <td>16175.00</td>\n",
       "      <td>35000.00</td>\n",
       "    </tr>\n",
       "    <tr>\n",
       "      <th>Interest.Rate</th>\n",
       "      <td>2413.0</td>\n",
       "      <td>13.075591</td>\n",
       "      <td>4.158537</td>\n",
       "      <td>5.42</td>\n",
       "      <td>10.16</td>\n",
       "      <td>13.11</td>\n",
       "      <td>15.80</td>\n",
       "      <td>24.89</td>\n",
       "    </tr>\n",
       "    <tr>\n",
       "      <th>Monthly.Income</th>\n",
       "      <td>2413.0</td>\n",
       "      <td>5735.767460</td>\n",
       "      <td>3993.949136</td>\n",
       "      <td>588.50</td>\n",
       "      <td>3500.00</td>\n",
       "      <td>5000.00</td>\n",
       "      <td>6833.33</td>\n",
       "      <td>102750.00</td>\n",
       "    </tr>\n",
       "    <tr>\n",
       "      <th>Open.CREDIT.Lines</th>\n",
       "      <td>2413.0</td>\n",
       "      <td>10.106092</td>\n",
       "      <td>4.507909</td>\n",
       "      <td>2.00</td>\n",
       "      <td>7.00</td>\n",
       "      <td>9.00</td>\n",
       "      <td>13.00</td>\n",
       "      <td>38.00</td>\n",
       "    </tr>\n",
       "    <tr>\n",
       "      <th>Revolving.CREDIT.Balance</th>\n",
       "      <td>2413.0</td>\n",
       "      <td>15300.304600</td>\n",
       "      <td>18327.413575</td>\n",
       "      <td>0.00</td>\n",
       "      <td>5613.00</td>\n",
       "      <td>11016.00</td>\n",
       "      <td>19036.00</td>\n",
       "      <td>270800.00</td>\n",
       "    </tr>\n",
       "    <tr>\n",
       "      <th>Inquiries.in.the.Last.6.Months</th>\n",
       "      <td>2413.0</td>\n",
       "      <td>0.905097</td>\n",
       "      <td>1.236078</td>\n",
       "      <td>0.00</td>\n",
       "      <td>0.00</td>\n",
       "      <td>0.00</td>\n",
       "      <td>1.00</td>\n",
       "      <td>9.00</td>\n",
       "    </tr>\n",
       "  </tbody>\n",
       "</table>\n",
       "</div>"
      ],
      "text/plain": [
       "                                 count          mean           std      min  \\\n",
       "Amount.Requested                2413.0  12491.556154   7783.902098  1000.00   \n",
       "Amount.Funded.By.Investors      2413.0  12074.038388   7727.846537    -0.01   \n",
       "Interest.Rate                   2413.0     13.075591      4.158537     5.42   \n",
       "Monthly.Income                  2413.0   5735.767460   3993.949136   588.50   \n",
       "Open.CREDIT.Lines               2413.0     10.106092      4.507909     2.00   \n",
       "Revolving.CREDIT.Balance        2413.0  15300.304600  18327.413575     0.00   \n",
       "Inquiries.in.the.Last.6.Months  2413.0      0.905097      1.236078     0.00   \n",
       "\n",
       "                                    25%       50%       75%        max  \n",
       "Amount.Requested                6000.00  10000.00  17000.00   35000.00  \n",
       "Amount.Funded.By.Investors      6000.00  10000.00  16175.00   35000.00  \n",
       "Interest.Rate                     10.16     13.11     15.80      24.89  \n",
       "Monthly.Income                  3500.00   5000.00   6833.33  102750.00  \n",
       "Open.CREDIT.Lines                  7.00      9.00     13.00      38.00  \n",
       "Revolving.CREDIT.Balance        5613.00  11016.00  19036.00  270800.00  \n",
       "Inquiries.in.the.Last.6.Months     0.00      0.00      1.00       9.00  "
      ]
     },
     "execution_count": 89,
     "metadata": {},
     "output_type": "execute_result"
    }
   ],
   "source": [
    "loansdata.describe().T"
   ]
  },
  {
   "cell_type": "code",
   "execution_count": 90,
   "id": "63535cdd-30c6-4eb7-8719-e6dfcf6746b0",
   "metadata": {},
   "outputs": [
    {
     "data": {
      "text/plain": [
       "<Axes: ylabel='Amount.Funded.By.Investors'>"
      ]
     },
     "execution_count": 90,
     "metadata": {},
     "output_type": "execute_result"
    },
    {
     "data": {
      "image/png": "[encoded data removed]",
      "text/plain": [
       "<Figure size 640x480 with 1 Axes>"
      ]
     },
     "metadata": {},
     "output_type": "display_data"
    }
   ],
   "source": [
    "# checking for outliers\n",
    "\n",
    "sns.boxplot(data = loansdata['Amount.Funded.By.Investors'])"
   ]
  },
  {
   "cell_type": "code",
   "execution_count": 91,
   "id": "3764a646-149a-4c95-9063-4c044d459b18",
   "metadata": {},
   "outputs": [],
   "source": [
    "#Treating outliers"
   ]
  },
  {
   "cell_type": "code",
   "execution_count": 92,
   "id": "da2771ed-6180-4afa-a2c8-a267daa6d6c3",
   "metadata": {},
   "outputs": [],
   "source": [
    "loansdata['Interest.Rate'] = loansdata['Interest.Rate'].sort_values()"
   ]
  },
  {
   "cell_type": "code",
   "execution_count": 93,
   "id": "e8c194a5-3ed8-4218-b685-44f5036479ee",
   "metadata": {},
   "outputs": [],
   "source": [
    "q1 = loansdata['Interest.Rate'].quantile(0.25)\n",
    "q3 = loansdata['Interest.Rate'].quantile(0.75)\n",
    "IQR = q3 - q1\n",
    "Lower_cutoff = q1 - 1.5 * IQR\n",
    "upper_cutoff = q3 + 1.5 * IQR\n",
    "loansdata['Interest.Rate'] = loansdata['Interest.Rate'].clip(lower = Lower_cutoff, upper = upper_cutoff)"
   ]
  },
  {
   "cell_type": "code",
   "execution_count": 94,
   "id": "f490d2a6-7ba1-417e-8367-1c59ae43dbf2",
   "metadata": {},
   "outputs": [
    {
     "data": {
      "text/plain": [
       "<Axes: ylabel='Interest.Rate'>"
      ]
     },
     "execution_count": 94,
     "metadata": {},
     "output_type": "execute_result"
    },
    {
     "data": {
      "image/png": "[encoded data removed]",
      "text/plain": [
       "<Figure size 640x480 with 1 Axes>"
      ]
     },
     "metadata": {},
     "output_type": "display_data"
    }
   ],
   "source": [
    "sns.boxplot(data = loansdata['Interest.Rate'])"
   ]
  },
  {
   "cell_type": "code",
   "execution_count": 95,
   "id": "5b609525-c3d1-463e-80df-ccc3ac47c3e8",
   "metadata": {},
   "outputs": [],
   "source": [
    "q1 = loansdata['Amount.Funded.By.Investors'].quantile(0.25)\n",
    "q3 = loansdata['Amount.Funded.By.Investors'].quantile(0.75)\n",
    "IQR = q3 - q1\n",
    "lower_cuttoff = q1 - 1.5 * IQR\n",
    "upper_cutoff = q3 + 1.5* IQR\n",
    "\n",
    "loansdata['Amount.Funded.By.Investors'] = loansdata['Amount.Funded.By.Investors'].clip(lower_cuttoff,upper_cutoff)"
   ]
  },
  {
   "cell_type": "code",
   "execution_count": 96,
   "id": "ee8ec448-d655-4634-b845-1fb742ce2fbb",
   "metadata": {},
   "outputs": [
    {
     "data": {
      "text/plain": [
       "<Axes: ylabel='Amount.Funded.By.Investors'>"
      ]
     },
     "execution_count": 96,
     "metadata": {},
     "output_type": "execute_result"
    },
    {
     "data": {
      "image/png": "[encoded data removed]",
      "text/plain": [
       "<Figure size 640x480 with 1 Axes>"
      ]
     },
     "metadata": {},
     "output_type": "display_data"
    }
   ],
   "source": [
    "sns.boxplot(data = loansdata['Amount.Funded.By.Investors'])"
   ]
  },
  {
   "cell_type": "code",
   "execution_count": 97,
   "id": "810b9c6e-d333-4fbf-b212-efa06531e97f",
   "metadata": {},
   "outputs": [],
   "source": [
    "#TESTNG"
   ]
  },
  {
   "cell_type": "raw",
   "id": "292d673c-16aa-41d4-a95c-601238680d6c",
   "metadata": {},
   "source": [
    "a. Intrest rate is varied for different loan amounts (Less intrest charged for high loan\n",
    "amounts)"
   ]
  },
  {
   "cell_type": "raw",
   "id": "36455abb-ad8c-4524-8d00-8bfc2bda0322",
   "metadata": {},
   "source": [
    "H0 - Interest Rate  = Loan Amount1, Loan Amount 2, etc, Not varied for different loan amounts\n",
    "H1 = Intereset Rate <> Loan Amount1, Loan Amount 2, etc. Varied for different loan amounts\n",
    "\n",
    "Confidence = 95%\n",
    "Significance = 5%\n",
    "P-Critical - 0.05%"
   ]
  },
  {
   "cell_type": "code",
   "execution_count": 98,
   "id": "d88e4e04-d104-4b7a-a943-54da022ffd10",
   "metadata": {},
   "outputs": [
    {
     "data": {
      "text/html": [
       "<div>\n",
       "<style scoped>\n",
       "    .dataframe tbody tr th:only-of-type {\n",
       "        vertical-align: middle;\n",
       "    }\n",
       "\n",
       "    .dataframe tbody tr th {\n",
       "        vertical-align: top;\n",
       "    }\n",
       "\n",
       "    .dataframe thead th {\n",
       "        text-align: right;\n",
       "    }\n",
       "</style>\n",
       "<table border=\"1\" class=\"dataframe\">\n",
       "  <thead>\n",
       "    <tr style=\"text-align: right;\">\n",
       "      <th></th>\n",
       "      <th>Interest.Rate</th>\n",
       "      <th>Amount.Funded.By.Investors</th>\n",
       "    </tr>\n",
       "  </thead>\n",
       "  <tbody>\n",
       "    <tr>\n",
       "      <th>0</th>\n",
       "      <td>8.90</td>\n",
       "      <td>20000.00</td>\n",
       "    </tr>\n",
       "    <tr>\n",
       "      <th>1</th>\n",
       "      <td>12.12</td>\n",
       "      <td>19200.00</td>\n",
       "    </tr>\n",
       "    <tr>\n",
       "      <th>2</th>\n",
       "      <td>21.98</td>\n",
       "      <td>31437.50</td>\n",
       "    </tr>\n",
       "    <tr>\n",
       "      <th>3</th>\n",
       "      <td>9.99</td>\n",
       "      <td>9975.00</td>\n",
       "    </tr>\n",
       "    <tr>\n",
       "      <th>4</th>\n",
       "      <td>11.71</td>\n",
       "      <td>12000.00</td>\n",
       "    </tr>\n",
       "    <tr>\n",
       "      <th>...</th>\n",
       "      <td>...</td>\n",
       "      <td>...</td>\n",
       "    </tr>\n",
       "    <tr>\n",
       "      <th>2495</th>\n",
       "      <td>16.77</td>\n",
       "      <td>29950.00</td>\n",
       "    </tr>\n",
       "    <tr>\n",
       "      <th>2496</th>\n",
       "      <td>14.09</td>\n",
       "      <td>16000.00</td>\n",
       "    </tr>\n",
       "    <tr>\n",
       "      <th>2497</th>\n",
       "      <td>13.99</td>\n",
       "      <td>10000.00</td>\n",
       "    </tr>\n",
       "    <tr>\n",
       "      <th>2498</th>\n",
       "      <td>12.42</td>\n",
       "      <td>6000.00</td>\n",
       "    </tr>\n",
       "    <tr>\n",
       "      <th>2499</th>\n",
       "      <td>13.79</td>\n",
       "      <td>5242.75</td>\n",
       "    </tr>\n",
       "  </tbody>\n",
       "</table>\n",
       "<p>2413 rows × 2 columns</p>\n",
       "</div>"
      ],
      "text/plain": [
       "      Interest.Rate  Amount.Funded.By.Investors\n",
       "0              8.90                    20000.00\n",
       "1             12.12                    19200.00\n",
       "2             21.98                    31437.50\n",
       "3              9.99                     9975.00\n",
       "4             11.71                    12000.00\n",
       "...             ...                         ...\n",
       "2495          16.77                    29950.00\n",
       "2496          14.09                    16000.00\n",
       "2497          13.99                    10000.00\n",
       "2498          12.42                     6000.00\n",
       "2499          13.79                     5242.75\n",
       "\n",
       "[2413 rows x 2 columns]"
      ]
     },
     "execution_count": 98,
     "metadata": {},
     "output_type": "execute_result"
    }
   ],
   "source": [
    "loansdata[['Interest.Rate', 'Amount.Funded.By.Investors']]"
   ]
  },
  {
   "cell_type": "code",
   "execution_count": 99,
   "id": "b4bdc7be-429e-430d-a518-dbd4816633a7",
   "metadata": {},
   "outputs": [
    {
     "data": {
      "text/plain": [
       "TtestResult(statistic=-78.19712840233261, pvalue=0.0, df=4824.0)"
      ]
     },
     "execution_count": 99,
     "metadata": {},
     "output_type": "execute_result"
    }
   ],
   "source": [
    "stats.ttest_ind(loansdata['Interest.Rate'], loansdata['Amount.Funded.By.Investors'])"
   ]
  },
  {
   "cell_type": "code",
   "execution_count": 100,
   "id": "1e552a0e-2e09-4448-97f2-cff150d79aea",
   "metadata": {},
   "outputs": [
    {
     "data": {
      "text/html": [
       "<div>\n",
       "<style scoped>\n",
       "    .dataframe tbody tr th:only-of-type {\n",
       "        vertical-align: middle;\n",
       "    }\n",
       "\n",
       "    .dataframe tbody tr th {\n",
       "        vertical-align: top;\n",
       "    }\n",
       "\n",
       "    .dataframe thead th {\n",
       "        text-align: right;\n",
       "    }\n",
       "</style>\n",
       "<table border=\"1\" class=\"dataframe\">\n",
       "  <thead>\n",
       "    <tr style=\"text-align: right;\">\n",
       "      <th></th>\n",
       "      <th>Interest.Rate</th>\n",
       "      <th>Amount.Funded.By.Investors</th>\n",
       "    </tr>\n",
       "  </thead>\n",
       "  <tbody>\n",
       "    <tr>\n",
       "      <th>0</th>\n",
       "      <td>8.90</td>\n",
       "      <td>20000.00</td>\n",
       "    </tr>\n",
       "    <tr>\n",
       "      <th>1</th>\n",
       "      <td>12.12</td>\n",
       "      <td>19200.00</td>\n",
       "    </tr>\n",
       "    <tr>\n",
       "      <th>2</th>\n",
       "      <td>21.98</td>\n",
       "      <td>31437.50</td>\n",
       "    </tr>\n",
       "    <tr>\n",
       "      <th>3</th>\n",
       "      <td>9.99</td>\n",
       "      <td>9975.00</td>\n",
       "    </tr>\n",
       "    <tr>\n",
       "      <th>4</th>\n",
       "      <td>11.71</td>\n",
       "      <td>12000.00</td>\n",
       "    </tr>\n",
       "    <tr>\n",
       "      <th>...</th>\n",
       "      <td>...</td>\n",
       "      <td>...</td>\n",
       "    </tr>\n",
       "    <tr>\n",
       "      <th>2495</th>\n",
       "      <td>16.77</td>\n",
       "      <td>29950.00</td>\n",
       "    </tr>\n",
       "    <tr>\n",
       "      <th>2496</th>\n",
       "      <td>14.09</td>\n",
       "      <td>16000.00</td>\n",
       "    </tr>\n",
       "    <tr>\n",
       "      <th>2497</th>\n",
       "      <td>13.99</td>\n",
       "      <td>10000.00</td>\n",
       "    </tr>\n",
       "    <tr>\n",
       "      <th>2498</th>\n",
       "      <td>12.42</td>\n",
       "      <td>6000.00</td>\n",
       "    </tr>\n",
       "    <tr>\n",
       "      <th>2499</th>\n",
       "      <td>13.79</td>\n",
       "      <td>5242.75</td>\n",
       "    </tr>\n",
       "  </tbody>\n",
       "</table>\n",
       "<p>2413 rows × 2 columns</p>\n",
       "</div>"
      ],
      "text/plain": [
       "      Interest.Rate  Amount.Funded.By.Investors\n",
       "0              8.90                    20000.00\n",
       "1             12.12                    19200.00\n",
       "2             21.98                    31437.50\n",
       "3              9.99                     9975.00\n",
       "4             11.71                    12000.00\n",
       "...             ...                         ...\n",
       "2495          16.77                    29950.00\n",
       "2496          14.09                    16000.00\n",
       "2497          13.99                    10000.00\n",
       "2498          12.42                     6000.00\n",
       "2499          13.79                     5242.75\n",
       "\n",
       "[2413 rows x 2 columns]"
      ]
     },
     "execution_count": 100,
     "metadata": {},
     "output_type": "execute_result"
    }
   ],
   "source": [
    "loansdata[['Interest.Rate', 'Amount.Funded.By.Investors']]"
   ]
  },
  {
   "cell_type": "code",
   "execution_count": 101,
   "id": "e7fd37af-9e61-433b-a6a6-5dd920a7efcb",
   "metadata": {},
   "outputs": [
    {
     "data": {
      "text/html": [
       "<div>\n",
       "<style scoped>\n",
       "    .dataframe tbody tr th:only-of-type {\n",
       "        vertical-align: middle;\n",
       "    }\n",
       "\n",
       "    .dataframe tbody tr th {\n",
       "        vertical-align: top;\n",
       "    }\n",
       "\n",
       "    .dataframe thead th {\n",
       "        text-align: right;\n",
       "    }\n",
       "</style>\n",
       "<table border=\"1\" class=\"dataframe\">\n",
       "  <thead>\n",
       "    <tr style=\"text-align: right;\">\n",
       "      <th></th>\n",
       "      <th>Amount.Funded.By.Investors</th>\n",
       "      <th>Interest.Rate</th>\n",
       "    </tr>\n",
       "  </thead>\n",
       "  <tbody>\n",
       "    <tr>\n",
       "      <th>Amount.Funded.By.Investors</th>\n",
       "      <td>1.000000</td>\n",
       "      <td>0.332739</td>\n",
       "    </tr>\n",
       "    <tr>\n",
       "      <th>Interest.Rate</th>\n",
       "      <td>0.332739</td>\n",
       "      <td>1.000000</td>\n",
       "    </tr>\n",
       "  </tbody>\n",
       "</table>\n",
       "</div>"
      ],
      "text/plain": [
       "                            Amount.Funded.By.Investors  Interest.Rate\n",
       "Amount.Funded.By.Investors                    1.000000       0.332739\n",
       "Interest.Rate                                 0.332739       1.000000"
      ]
     },
     "execution_count": 101,
     "metadata": {},
     "output_type": "execute_result"
    }
   ],
   "source": [
    "loansdata[['Amount.Funded.By.Investors','Interest.Rate']].corr()"
   ]
  },
  {
   "cell_type": "code",
   "execution_count": 102,
   "id": "df5e0725-8fe9-42a3-9e82-872cd9040f31",
   "metadata": {},
   "outputs": [
    {
     "data": {
      "text/plain": [
       "PearsonRResult(statistic=0.32642868508191825, pvalue=5.0976491330122536e-61)"
      ]
     },
     "execution_count": 102,
     "metadata": {},
     "output_type": "execute_result"
    }
   ],
   "source": [
    "stats.pearsonr(loansdata['Interest.Rate'], loansdata['Amount.Requested'])"
   ]
  },
  {
   "cell_type": "raw",
   "id": "2a81b6c3-95e0-4b6d-ab56-101b5f731ef2",
   "metadata": {},
   "source": [
    "Loan length is directly effecting intrest rate.\n",
    "HO- No correlation\n",
    "H1 = Correletion -- This is \n",
    "\n",
    "## No correleation - Null Hy"
   ]
  },
  {
   "cell_type": "code",
   "execution_count": 103,
   "id": "f071a3c2-dc12-41eb-94ae-646550e9aae3",
   "metadata": {},
   "outputs": [
    {
     "data": {
      "text/plain": [
       "F_onewayResult(statistic=531.6534262593598, pvalue=1.799999706138135e-106)"
      ]
     },
     "execution_count": 103,
     "metadata": {},
     "output_type": "execute_result"
    }
   ],
   "source": [
    "group_36 = loansdata[loansdata['Loan.Length'] == \"36 months\"]['Interest.Rate']\n",
    "group_60 = loansdata[loansdata['Loan.Length'] == \"60 months\"]['Interest.Rate']\n",
    "stats.f_oneway(group_36,group_60)"
   ]
  },
  {
   "cell_type": "code",
   "execution_count": 104,
   "id": "1fee0dfc-cd9d-4486-8b89-c6c856b6b26a",
   "metadata": {},
   "outputs": [],
   "source": [
    "loansdata['Loan.Length'] = loansdata['Loan.Length'].str.replace('months','').astype('float')"
   ]
  },
  {
   "cell_type": "code",
   "execution_count": 105,
   "id": "874d958b-3b69-4d4f-a00a-367acec8d5c7",
   "metadata": {},
   "outputs": [
    {
     "data": {
      "text/plain": [
       "PearsonRResult(statistic=0.4250546295106784, pvalue=1.799999706137092e-106)"
      ]
     },
     "execution_count": 105,
     "metadata": {},
     "output_type": "execute_result"
    }
   ],
   "source": [
    "stats.pearsonr(loansdata['Interest.Rate'], loansdata['Loan.Length'])"
   ]
  },
  {
   "cell_type": "raw",
   "id": "96442018-f150-4f30-9943-621cbe5872c3",
   "metadata": {},
   "source": [
    "c. Inrest rate varies for different purpose of loans"
   ]
  },
  {
   "cell_type": "code",
   "execution_count": 106,
   "id": "bdc7c916-7c2c-4759-b601-a985ae0a59f6",
   "metadata": {},
   "outputs": [
    {
     "data": {
      "text/html": [
       "<div>\n",
       "<style scoped>\n",
       "    .dataframe tbody tr th:only-of-type {\n",
       "        vertical-align: middle;\n",
       "    }\n",
       "\n",
       "    .dataframe tbody tr th {\n",
       "        vertical-align: top;\n",
       "    }\n",
       "\n",
       "    .dataframe thead th {\n",
       "        text-align: right;\n",
       "    }\n",
       "</style>\n",
       "<table border=\"1\" class=\"dataframe\">\n",
       "  <thead>\n",
       "    <tr style=\"text-align: right;\">\n",
       "      <th></th>\n",
       "      <th>Amount.Requested</th>\n",
       "      <th>Amount.Funded.By.Investors</th>\n",
       "      <th>Interest.Rate</th>\n",
       "      <th>Loan.Length</th>\n",
       "      <th>Loan.Purpose</th>\n",
       "      <th>Debt.To.Income.Ratio</th>\n",
       "      <th>State</th>\n",
       "      <th>Home.Ownership</th>\n",
       "      <th>Monthly.Income</th>\n",
       "      <th>FICO.Range</th>\n",
       "      <th>Open.CREDIT.Lines</th>\n",
       "      <th>Revolving.CREDIT.Balance</th>\n",
       "      <th>Inquiries.in.the.Last.6.Months</th>\n",
       "      <th>Employment.Length</th>\n",
       "    </tr>\n",
       "  </thead>\n",
       "  <tbody>\n",
       "    <tr>\n",
       "      <th>0</th>\n",
       "      <td>20000.0</td>\n",
       "      <td>20000.0</td>\n",
       "      <td>8.9</td>\n",
       "      <td>36.0</td>\n",
       "      <td>debt_consolidation</td>\n",
       "      <td>14.90%</td>\n",
       "      <td>SC</td>\n",
       "      <td>MORTGAGE</td>\n",
       "      <td>6541.67</td>\n",
       "      <td>735-739</td>\n",
       "      <td>14.0</td>\n",
       "      <td>14272.0</td>\n",
       "      <td>2.0</td>\n",
       "      <td>&lt; 1 year</td>\n",
       "    </tr>\n",
       "  </tbody>\n",
       "</table>\n",
       "</div>"
      ],
      "text/plain": [
       "   Amount.Requested  Amount.Funded.By.Investors  Interest.Rate  Loan.Length  \\\n",
       "0           20000.0                     20000.0            8.9         36.0   \n",
       "\n",
       "         Loan.Purpose Debt.To.Income.Ratio State Home.Ownership  \\\n",
       "0  debt_consolidation               14.90%    SC       MORTGAGE   \n",
       "\n",
       "   Monthly.Income FICO.Range  Open.CREDIT.Lines  Revolving.CREDIT.Balance  \\\n",
       "0         6541.67    735-739               14.0                   14272.0   \n",
       "\n",
       "   Inquiries.in.the.Last.6.Months Employment.Length  \n",
       "0                             2.0          < 1 year  "
      ]
     },
     "execution_count": 106,
     "metadata": {},
     "output_type": "execute_result"
    }
   ],
   "source": [
    "loansdata.head(1)"
   ]
  },
  {
   "cell_type": "code",
   "execution_count": 107,
   "id": "24eda90b-ffc7-4303-808b-2ebc02e516ad",
   "metadata": {},
   "outputs": [],
   "source": [
    "S1 = loansdata[loansdata['Loan.Purpose'] == \"debt_consolidation\"]['Interest.Rate']\n",
    "S2 = loansdata[loansdata['Loan.Purpose'] == \"credit_card\"]['Interest.Rate']\n",
    "S3 = loansdata[loansdata['Loan.Purpose'] == \"other\"]['Interest.Rate']\n",
    "S4 = loansdata[loansdata['Loan.Purpose'] == \"moving\"]['Interest.Rate']\n",
    "S5 = loansdata[loansdata['Loan.Purpose'] == \"car\"]['Interest.Rate']\n",
    "S6 = loansdata[loansdata['Loan.Purpose'] == \"vacation\"]['Interest.Rate']\n",
    "S7 = loansdata[loansdata['Loan.Purpose'] == \"medical\"]['Interest.Rate']\n",
    "S8 = loansdata[loansdata['Loan.Purpose'] == \"wedding\"]['Interest.Rate']\n",
    "S9 = loansdata[loansdata['Loan.Purpose'] == \"small_business\"]['Interest.Rate']\n",
    "S10 = loansdata[loansdata['Loan.Purpose'] == \"home_improvement\"]['Interest.Rate']\n",
    "S11 = loansdata[loansdata['Loan.Purpose'] == \"house\"]['Interest.Rate']\n",
    "S12 = loansdata[loansdata['Loan.Purpose'] == \"major_purchase\"]['Interest.Rate']\n",
    "S13 = loansdata[loansdata['Loan.Purpose'] == \"educational\"]['Interest.Rate']\n",
    "S14 = loansdata[loansdata['Loan.Purpose'] == \"renewable_energy\"]['Interest.Rate']"
   ]
  },
  {
   "cell_type": "code",
   "execution_count": 108,
   "id": "02b9e400-3f31-437d-b6ed-32129c1e913e",
   "metadata": {},
   "outputs": [
    {
     "data": {
      "text/plain": [
       "array(['debt_consolidation', 'credit_card', 'other', 'moving', 'car',\n",
       "       'vacation', 'home_improvement', 'house', 'major_purchase',\n",
       "       'educational', 'medical', 'wedding', 'small_business',\n",
       "       'renewable_energy'], dtype=object)"
      ]
     },
     "execution_count": 108,
     "metadata": {},
     "output_type": "execute_result"
    }
   ],
   "source": [
    "loansdata['Loan.Purpose'].unique()"
   ]
  },
  {
   "cell_type": "code",
   "execution_count": 109,
   "id": "81006cbe-e783-43c4-ada7-21d82f760739",
   "metadata": {},
   "outputs": [
    {
     "data": {
      "text/plain": [
       "F_onewayResult(statistic=7.33138172754489, pvalue=2.7563442993460577e-14)"
      ]
     },
     "execution_count": 109,
     "metadata": {},
     "output_type": "execute_result"
    }
   ],
   "source": [
    "stats.f_oneway(S1,S2,S3,S4,S5,S6,S7,S8,S9,S10,S11,S12,S13,S14)"
   ]
  },
  {
   "cell_type": "code",
   "execution_count": 110,
   "id": "7664c717-676d-468d-8c1f-d2a166265633",
   "metadata": {},
   "outputs": [],
   "source": [
    "# We reject null hypothesis"
   ]
  },
  {
   "cell_type": "raw",
   "id": "753fb750-9c6c-43ea-9bb4-522ab6a07c04",
   "metadata": {},
   "source": [
    "d. There is relationship between FICO scores and Home Ownership. It means that, People\n",
    "with owning home will have high FICO scores."
   ]
  },
  {
   "cell_type": "code",
   "execution_count": 111,
   "id": "c94c090b-760c-4b3c-a362-f6e0bf5acdac",
   "metadata": {},
   "outputs": [
    {
     "data": {
      "text/plain": [
       "Amount.Requested                  float64\n",
       "Amount.Funded.By.Investors        float64\n",
       "Interest.Rate                     float64\n",
       "Loan.Length                       float64\n",
       "Loan.Purpose                       object\n",
       "Debt.To.Income.Ratio               object\n",
       "State                              object\n",
       "Home.Ownership                     object\n",
       "Monthly.Income                    float64\n",
       "FICO.Range                         object\n",
       "Open.CREDIT.Lines                 float64\n",
       "Revolving.CREDIT.Balance          float64\n",
       "Inquiries.in.the.Last.6.Months    float64\n",
       "Employment.Length                  object\n",
       "dtype: object"
      ]
     },
     "execution_count": 111,
     "metadata": {},
     "output_type": "execute_result"
    }
   ],
   "source": [
    "loansdata.dtypes"
   ]
  },
  {
   "cell_type": "code",
   "execution_count": 112,
   "id": "85fa1115-63b9-499a-9787-e4993043a15d",
   "metadata": {},
   "outputs": [],
   "source": [
    "contigency = pd.crosstab(loansdata['FICO.Range'], loansdata['Home.Ownership'])"
   ]
  },
  {
   "cell_type": "code",
   "execution_count": 113,
   "id": "bbf26378-d584-4b1a-97ed-b6bacfce0fa7",
   "metadata": {},
   "outputs": [
    {
     "data": {
      "text/plain": [
       "Chi2ContingencyResult(statistic=269.7881202757335, pvalue=3.087547281383599e-15, dof=111, expected_freq=array([[2.29796933e+00, 1.03605470e-02, 3.91628678e-01, 2.30004144e+00],\n",
       "       [1.37878160e+00, 6.21632822e-03, 2.34977207e-01, 1.38002487e+00],\n",
       "       [4.59593867e-01, 2.07210941e-03, 7.83257356e-02, 4.60008288e-01],\n",
       "       [1.83837547e+00, 8.28843763e-03, 3.13302942e-01, 1.84003315e+00],\n",
       "       [5.42320763e+01, 2.44508910e-01, 9.24243680e+00, 5.42809780e+01],\n",
       "       [6.34239536e+01, 2.85951098e-01, 1.08089515e+01, 6.34811438e+01],\n",
       "       [7.67521757e+01, 3.46042271e-01, 1.30803978e+01, 7.68213842e+01],\n",
       "       [7.39946125e+01, 3.33609615e-01, 1.26104434e+01, 7.40613344e+01],\n",
       "       [7.21562370e+01, 3.25321177e-01, 1.22971405e+01, 7.22213013e+01],\n",
       "       [5.88280149e+01, 2.65230004e-01, 1.00256942e+01, 5.88810609e+01],\n",
       "       [6.20451720e+01, 2.79734770e-01, 1.05739743e+01, 6.21011189e+01],\n",
       "       [6.71007045e+01, 3.02527973e-01, 1.14355574e+01, 6.71612101e+01],\n",
       "       [5.69896395e+01, 2.56941567e-01, 9.71239121e+00, 5.70410278e+01],\n",
       "       [6.02067965e+01, 2.71446332e-01, 1.02606714e+01, 6.02610858e+01],\n",
       "       [4.91765437e+01, 2.21715707e-01, 8.38085371e+00, 4.92208869e+01],\n",
       "       [4.22826357e+01, 1.90634065e-01, 7.20596768e+00, 4.23207625e+01],\n",
       "       [4.96361376e+01, 2.23787816e-01, 8.45917944e+00, 4.96808952e+01],\n",
       "       [4.18230419e+01, 1.88561956e-01, 7.12764194e+00, 4.18607542e+01],\n",
       "       [4.32018235e+01, 1.94778284e-01, 7.36261915e+00, 4.32407791e+01],\n",
       "       [2.98736013e+01, 1.34687111e-01, 5.09117281e+00, 2.99005387e+01],\n",
       "       [2.29796933e+01, 1.03605470e-01, 3.91628678e+00, 2.30004144e+01],\n",
       "       [2.48180688e+01, 1.11893908e-01, 4.22958972e+00, 2.48404476e+01],\n",
       "       [2.75756320e+01, 1.24326564e-01, 4.69954414e+00, 2.76004973e+01],\n",
       "       [2.02221301e+01, 9.11728139e-02, 3.44633237e+00, 2.02403647e+01],\n",
       "       [2.06817240e+01, 9.32449233e-02, 3.52465810e+00, 2.07003730e+01],\n",
       "       [1.47070037e+01, 6.63075010e-02, 2.50642354e+00, 1.47202652e+01],\n",
       "       [7.81309573e+00, 3.52258599e-02, 1.33153751e+00, 7.82014090e+00],\n",
       "       [1.01110651e+01, 4.55864070e-02, 1.72316618e+00, 1.01201823e+01],\n",
       "       [1.19494405e+01, 5.38748446e-02, 2.03646913e+00, 1.19602155e+01],\n",
       "       [7.81309573e+00, 3.52258599e-02, 1.33153751e+00, 7.82014090e+00],\n",
       "       [9.19187733e+00, 4.14421881e-02, 1.56651471e+00, 9.20016577e+00],\n",
       "       [5.97472027e+00, 2.69374223e-02, 1.01823456e+00, 5.98010775e+00],\n",
       "       [5.51512640e+00, 2.48653129e-02, 9.39908827e-01, 5.52009946e+00],\n",
       "       [5.05553253e+00, 2.27932035e-02, 8.61583092e-01, 5.06009117e+00],\n",
       "       [3.67675093e+00, 1.65768753e-02, 6.26605885e-01, 3.68006631e+00],\n",
       "       [2.29796933e+00, 1.03605470e-02, 3.91628678e-01, 2.30004144e+00],\n",
       "       [4.59593867e-01, 2.07210941e-03, 7.83257356e-02, 4.60008288e-01],\n",
       "       [4.59593867e-01, 2.07210941e-03, 7.83257356e-02, 4.60008288e-01]]))"
      ]
     },
     "execution_count": 113,
     "metadata": {},
     "output_type": "execute_result"
    }
   ],
   "source": [
    "stats.chi2_contingency(contigency)\n",
    "#There is relationship\n",
    "## people who owns a house has high FICO score as compare to people who doesn't"
   ]
  },
  {
   "cell_type": "markdown",
   "id": "c81dc299-54d0-4af8-ad1e-b8652ea52bde",
   "metadata": {},
   "source": [
    "# BUSINESS PROBLEM 2"
   ]
  },
  {
   "cell_type": "code",
   "execution_count": 115,
   "id": "546a96d5-14ad-45d5-9191-293812150904",
   "metadata": {},
   "outputs": [],
   "source": [
    "price_quotes = pd.read_csv(r'C:\\Users\\DELL\\Desktop\\Python\\4. Basic Statistics - Hypothesis Testing\\Price_Quotes.csv')"
   ]
  },
  {
   "cell_type": "code",
   "execution_count": 116,
   "id": "4a37ba67-f147-4ea7-8b2b-42e9938fea9a",
   "metadata": {},
   "outputs": [
    {
     "data": {
      "text/plain": [
       "(12, 3)"
      ]
     },
     "execution_count": 116,
     "metadata": {},
     "output_type": "execute_result"
    }
   ],
   "source": [
    "price_quotes.shape"
   ]
  },
  {
   "cell_type": "code",
   "execution_count": 117,
   "id": "c1253abe-2130-496f-b932-51cc9ec452e1",
   "metadata": {},
   "outputs": [
    {
     "data": {
      "text/html": [
       "<div>\n",
       "<style scoped>\n",
       "    .dataframe tbody tr th:only-of-type {\n",
       "        vertical-align: middle;\n",
       "    }\n",
       "\n",
       "    .dataframe tbody tr th {\n",
       "        vertical-align: top;\n",
       "    }\n",
       "\n",
       "    .dataframe thead th {\n",
       "        text-align: right;\n",
       "    }\n",
       "</style>\n",
       "<table border=\"1\" class=\"dataframe\">\n",
       "  <thead>\n",
       "    <tr style=\"text-align: right;\">\n",
       "      <th></th>\n",
       "      <th>Order_Number</th>\n",
       "      <th>Barry_Price</th>\n",
       "      <th>Mary_Price</th>\n",
       "    </tr>\n",
       "  </thead>\n",
       "  <tbody>\n",
       "    <tr>\n",
       "      <th>0</th>\n",
       "      <td>1</td>\n",
       "      <td>126</td>\n",
       "      <td>114</td>\n",
       "    </tr>\n",
       "    <tr>\n",
       "      <th>1</th>\n",
       "      <td>2</td>\n",
       "      <td>110</td>\n",
       "      <td>118</td>\n",
       "    </tr>\n",
       "    <tr>\n",
       "      <th>2</th>\n",
       "      <td>3</td>\n",
       "      <td>138</td>\n",
       "      <td>114</td>\n",
       "    </tr>\n",
       "    <tr>\n",
       "      <th>3</th>\n",
       "      <td>4</td>\n",
       "      <td>142</td>\n",
       "      <td>111</td>\n",
       "    </tr>\n",
       "    <tr>\n",
       "      <th>4</th>\n",
       "      <td>5</td>\n",
       "      <td>146</td>\n",
       "      <td>129</td>\n",
       "    </tr>\n",
       "    <tr>\n",
       "      <th>5</th>\n",
       "      <td>6</td>\n",
       "      <td>136</td>\n",
       "      <td>119</td>\n",
       "    </tr>\n",
       "    <tr>\n",
       "      <th>6</th>\n",
       "      <td>7</td>\n",
       "      <td>94</td>\n",
       "      <td>97</td>\n",
       "    </tr>\n",
       "    <tr>\n",
       "      <th>7</th>\n",
       "      <td>8</td>\n",
       "      <td>103</td>\n",
       "      <td>104</td>\n",
       "    </tr>\n",
       "    <tr>\n",
       "      <th>8</th>\n",
       "      <td>9</td>\n",
       "      <td>140</td>\n",
       "      <td>127</td>\n",
       "    </tr>\n",
       "    <tr>\n",
       "      <th>9</th>\n",
       "      <td>10</td>\n",
       "      <td>152</td>\n",
       "      <td>133</td>\n",
       "    </tr>\n",
       "    <tr>\n",
       "      <th>10</th>\n",
       "      <td>11</td>\n",
       "      <td>108</td>\n",
       "      <td>103</td>\n",
       "    </tr>\n",
       "    <tr>\n",
       "      <th>11</th>\n",
       "      <td>12</td>\n",
       "      <td>97</td>\n",
       "      <td>108</td>\n",
       "    </tr>\n",
       "  </tbody>\n",
       "</table>\n",
       "</div>"
      ],
      "text/plain": [
       "    Order_Number  Barry_Price  Mary_Price\n",
       "0              1          126         114\n",
       "1              2          110         118\n",
       "2              3          138         114\n",
       "3              4          142         111\n",
       "4              5          146         129\n",
       "5              6          136         119\n",
       "6              7           94          97\n",
       "7              8          103         104\n",
       "8              9          140         127\n",
       "9             10          152         133\n",
       "10            11          108         103\n",
       "11            12           97         108"
      ]
     },
     "execution_count": 117,
     "metadata": {},
     "output_type": "execute_result"
    }
   ],
   "source": [
    "price_quotes"
   ]
  },
  {
   "cell_type": "raw",
   "id": "e85e402d-411e-4ab6-bb25-237e652160d5",
   "metadata": {},
   "source": [
    "We would like to assess if there is any difference in the average\n",
    "price quotes provided by Mary and Barry."
   ]
  },
  {
   "cell_type": "code",
   "execution_count": 118,
   "id": "dc0e1c06-a47f-495d-94b0-3ee576fec3c0",
   "metadata": {},
   "outputs": [
    {
     "data": {
      "text/plain": [
       "Order_Number    int64\n",
       "Barry_Price     int64\n",
       "Mary_Price      int64\n",
       "dtype: object"
      ]
     },
     "execution_count": 118,
     "metadata": {},
     "output_type": "execute_result"
    }
   ],
   "source": [
    "price_quotes.dtypes"
   ]
  },
  {
   "cell_type": "code",
   "execution_count": 119,
   "id": "ea11dd8a-d470-4ab6-a9ae-13df081e2bbc",
   "metadata": {},
   "outputs": [
    {
     "name": "stdout",
     "output_type": "stream",
     "text": [
      "['BootstrapMethod', 'CensoredData', 'ConstantInputWarning', 'Covariance', 'DegenerateDataWarning', 'FitError', 'MonteCarloMethod', 'NearConstantInputWarning', 'PermutationMethod', '__all__', '__builtins__', '__cached__', '__doc__', '__file__', '__loader__', '__name__', '__package__', '__path__', '__spec__', '_ansari_swilk_statistics', '_axis_nan_policy', '_biasedurn', '_binned_statistic', '_binomtest', '_boost', '_bws_test', '_censored_data', '_common', '_constants', '_continuous_distns', '_covariance', '_crosstab', '_discrete_distns', '_distn_infrastructure', '_distr_params', '_entropy', '_fit', '_hypotests', '_kde', '_ksstats', '_levy_stable', '_mannwhitneyu', '_morestats', '_mstats_basic', '_mstats_extras', '_multicomp', '_multivariate', '_mvn', '_odds_ratio', '_page_trend_test', '_qmc', '_qmc_cy', '_qmvnt', '_rcont', '_relative_risk', '_resampling', '_rvs_sampling', '_sampling', '_sensitivity_analysis', '_sobol', '_stats', '_stats_mstats_common', '_stats_py', '_stats_pythran', '_survival', '_tukeylambda_stats', '_unuran', '_variation', '_warnings_errors', '_wilcoxon', 'alexandergovern', 'alpha', 'anderson', 'anderson_ksamp', 'anglit', 'ansari', 'arcsine', 'argus', 'barnard_exact', 'bartlett', 'bayes_mvs', 'bernoulli', 'beta', 'betabinom', 'betanbinom', 'betaprime', 'biasedurn', 'binned_statistic', 'binned_statistic_2d', 'binned_statistic_dd', 'binom', 'binomtest', 'boltzmann', 'bootstrap', 'boschloo_exact', 'boxcox', 'boxcox_llf', 'boxcox_normmax', 'boxcox_normplot', 'bradford', 'brunnermunzel', 'burr', 'burr12', 'bws_test', 'cauchy', 'chi', 'chi2', 'chi2_contingency', 'chisquare', 'circmean', 'circstd', 'circvar', 'combine_pvalues', 'contingency', 'cosine', 'cramervonmises', 'cramervonmises_2samp', 'crystalball', 'cumfreq', 'describe', 'dgamma', 'differential_entropy', 'directional_stats', 'dirichlet', 'dirichlet_multinomial', 'distributions', 'dlaplace', 'dunnett', 'dweibull', 'ecdf', 'energy_distance', 'entropy', 'epps_singleton_2samp', 'erlang', 'expectile', 'expon', 'exponnorm', 'exponpow', 'exponweib', 'f', 'f_oneway', 'false_discovery_control', 'fatiguelife', 'find_repeats', 'fisher_exact', 'fisk', 'fit', 'fligner', 'foldcauchy', 'foldnorm', 'friedmanchisquare', 'gamma', 'gausshyper', 'gaussian_kde', 'genexpon', 'genextreme', 'gengamma', 'genhalflogistic', 'genhyperbolic', 'geninvgauss', 'genlogistic', 'gennorm', 'genpareto', 'geom', 'gibrat', 'gmean', 'gompertz', 'goodness_of_fit', 'gstd', 'gumbel_l', 'gumbel_r', 'gzscore', 'halfcauchy', 'halfgennorm', 'halflogistic', 'halfnorm', 'hmean', 'hypergeom', 'hypsecant', 'invgamma', 'invgauss', 'invweibull', 'invwishart', 'iqr', 'jarque_bera', 'jf_skew_t', 'johnsonsb', 'johnsonsu', 'kappa3', 'kappa4', 'kde', 'kendalltau', 'kruskal', 'ks_1samp', 'ks_2samp', 'ksone', 'kstat', 'kstatvar', 'kstest', 'kstwo', 'kstwobign', 'kurtosis', 'kurtosistest', 'laplace', 'laplace_asymmetric', 'levene', 'levy', 'levy_l', 'levy_stable', 'linregress', 'loggamma', 'logistic', 'loglaplace', 'lognorm', 'logrank', 'logser', 'loguniform', 'lomax', 'mannwhitneyu', 'matrix_normal', 'maxwell', 'median_abs_deviation', 'median_test', 'mielke', 'mode', 'moment', 'monte_carlo_test', 'mood', 'morestats', 'moyal', 'mstats', 'mstats_basic', 'mstats_extras', 'multinomial', 'multiscale_graphcorr', 'multivariate_hypergeom', 'multivariate_normal', 'multivariate_t', 'mvn', 'mvsdist', 'nakagami', 'nbinom', 'ncf', 'nchypergeom_fisher', 'nchypergeom_wallenius', 'nct', 'ncx2', 'nhypergeom', 'norm', 'normaltest', 'norminvgauss', 'obrientransform', 'ortho_group', 'page_trend_test', 'pareto', 'pearson3', 'pearsonr', 'percentileofscore', 'permutation_test', 'planck', 'pmean', 'pointbiserialr', 'poisson', 'poisson_means_test', 'power_divergence', 'powerlaw', 'powerlognorm', 'powernorm', 'ppcc_max', 'ppcc_plot', 'probplot', 'qmc', 'quantile_test', 'randint', 'random_correlation', 'random_table', 'rankdata', 'ranksums', 'rayleigh', 'rdist', 'recipinvgauss', 'reciprocal', 'rel_breitwigner', 'relfreq', 'rice', 'rv_continuous', 'rv_discrete', 'rv_histogram', 'rvs_ratio_uniforms', 'sampling', 'scoreatpercentile', 'sem', 'semicircular', 'shapiro', 'siegelslopes', 'sigmaclip', 'skellam', 'skew', 'skewcauchy', 'skewnorm', 'skewtest', 'sobol_indices', 'somersd', 'spearmanr', 'special_ortho_group', 'stats', 'studentized_range', 't', 'test', 'theilslopes', 'tiecorrect', 'tmax', 'tmean', 'tmin', 'trapezoid', 'trapz', 'triang', 'trim1', 'trim_mean', 'trimboth', 'truncexpon', 'truncnorm', 'truncpareto', 'truncweibull_min', 'tsem', 'tstd', 'ttest_1samp', 'ttest_ind', 'ttest_ind_from_stats', 'ttest_rel', 'tukey_hsd', 'tukeylambda', 'tvar', 'uniform', 'uniform_direction', 'unitary_group', 'variation', 'vonmises', 'vonmises_fisher', 'vonmises_line', 'wald', 'wasserstein_distance', 'wasserstein_distance_nd', 'weibull_max', 'weibull_min', 'weightedtau', 'wilcoxon', 'wishart', 'wrapcauchy', 'yeojohnson', 'yeojohnson_llf', 'yeojohnson_normmax', 'yeojohnson_normplot', 'yulesimon', 'zipf', 'zipfian', 'zmap', 'zscore']\n"
     ]
    }
   ],
   "source": [
    "print(dir(stats))"
   ]
  },
  {
   "cell_type": "code",
   "execution_count": 120,
   "id": "805f1242-5811-447d-a476-229e7f6e76eb",
   "metadata": {},
   "outputs": [
    {
     "data": {
      "text/plain": [
       "TtestResult(statistic=2.5213765108923494, pvalue=0.02840588045242053, df=11)"
      ]
     },
     "execution_count": 120,
     "metadata": {},
     "output_type": "execute_result"
    }
   ],
   "source": [
    "stats.ttest_rel(price_quotes['Barry_Price'],price_quotes['Mary_Price'])"
   ]
  },
  {
   "cell_type": "markdown",
   "id": "4231cf1a-6453-43b1-856e-b27f97683b82",
   "metadata": {},
   "source": [
    "## BUSINESS PROBLEM 3"
   ]
  },
  {
   "cell_type": "code",
   "execution_count": 122,
   "id": "88d9830a-1a40-48a9-8255-c0a64f23ccb2",
   "metadata": {},
   "outputs": [],
   "source": [
    "Treatment_fac = pd.read_csv(r'C:\\Users\\DELL\\Desktop\\Python\\4. Basic Statistics - Hypothesis Testing\\Treatment_Facility.csv')"
   ]
  },
  {
   "cell_type": "code",
   "execution_count": 123,
   "id": "602a361a-20ff-4388-bed0-408d275ac123",
   "metadata": {},
   "outputs": [
    {
     "name": "stdout",
     "output_type": "stream",
     "text": [
      "<class 'pandas.core.frame.DataFrame'>\n",
      "RangeIndex: 20 entries, 0 to 19\n",
      "Data columns (total 5 columns):\n",
      " #   Column             Non-Null Count  Dtype  \n",
      "---  ------             --------------  -----  \n",
      " 0   Month              20 non-null     int64  \n",
      " 1   Reengineer         20 non-null     object \n",
      " 2   Employee_Turnover  20 non-null     float64\n",
      " 3   VAR4               20 non-null     float64\n",
      " 4   VAR5               20 non-null     float64\n",
      "dtypes: float64(3), int64(1), object(1)\n",
      "memory usage: 932.0+ bytes\n"
     ]
    }
   ],
   "source": [
    "Treatment_fac.info()"
   ]
  },
  {
   "cell_type": "raw",
   "id": "7ee28d84-a950-4819-830d-a1658b0ff81a",
   "metadata": {},
   "source": [
    "BUSINESS PROBLEM: Determine what effect, if any, the reengineering effort had on the\n",
    "incidence behavioral problems and staff turnover. i.e To determine if the reengineering effort\n",
    "changed the critical incidence rate. Is there evidence that the critical incidence rate\n",
    "improved?"
   ]
  },
  {
   "cell_type": "raw",
   "id": "f0c33c81-b69a-4f28-a249-c48a3868ddc7",
   "metadata": {},
   "source": [
    "HO - No change\n",
    "H1 - CI rate changes after reenginerering\n",
    "\n",
    "confidence = 95%\n",
    "significance - 05%\n",
    "P-Critical - 0.05"
   ]
  },
  {
   "cell_type": "code",
   "execution_count": 124,
   "id": "e6b1d7a4-604e-44ea-bd4c-a9d1de75bd72",
   "metadata": {},
   "outputs": [],
   "source": [
    "Post = Treatment_fac[Treatment_fac['Reengineer'] == 'Post']['VAR5']\n",
    "Pre = Treatment_fac[Treatment_fac['Reengineer'] == 'Prior']['VAR5']"
   ]
  },
  {
   "cell_type": "code",
   "execution_count": 125,
   "id": "3d6c71ba-5dab-4cf2-a8c5-130b6645078a",
   "metadata": {},
   "outputs": [
    {
     "data": {
      "text/plain": [
       "13    29.126214\n",
       "14    21.008403\n",
       "15    34.782609\n",
       "16    19.900498\n",
       "17     9.950249\n",
       "18    25.531915\n",
       "19    23.148148\n",
       "Name: VAR5, dtype: float64"
      ]
     },
     "execution_count": 125,
     "metadata": {},
     "output_type": "execute_result"
    }
   ],
   "source": [
    "Post"
   ]
  },
  {
   "cell_type": "code",
   "execution_count": 126,
   "id": "55932291-150e-4007-b7c5-7ae1e672f3ee",
   "metadata": {},
   "outputs": [
    {
     "data": {
      "text/plain": [
       "0      42.682927\n",
       "1      25.806452\n",
       "2     146.198830\n",
       "3     110.429448\n",
       "4      23.952096\n",
       "5      47.058824\n",
       "6       0.000000\n",
       "7      25.000000\n",
       "8     132.183908\n",
       "9      16.574586\n",
       "10     88.757396\n",
       "11     31.746032\n",
       "12     10.152284\n",
       "Name: VAR5, dtype: float64"
      ]
     },
     "execution_count": 126,
     "metadata": {},
     "output_type": "execute_result"
    }
   ],
   "source": [
    "Pre"
   ]
  },
  {
   "cell_type": "code",
   "execution_count": 127,
   "id": "8df9d93b-ebe5-4972-ae2b-9de3bb36fabb",
   "metadata": {},
   "outputs": [
    {
     "data": {
      "text/plain": [
       "TtestResult(statistic=1.627914425352865, pvalue=0.12091989189884148, df=18.0)"
      ]
     },
     "execution_count": 127,
     "metadata": {},
     "output_type": "execute_result"
    }
   ],
   "source": [
    "stats.ttest_ind(Pre,Post)"
   ]
  },
  {
   "cell_type": "code",
   "execution_count": 128,
   "id": "239a4bc4-7415-4f76-a4cf-556803cd9c51",
   "metadata": {},
   "outputs": [
    {
     "data": {
      "text/html": [
       "<div>\n",
       "<style scoped>\n",
       "    .dataframe tbody tr th:only-of-type {\n",
       "        vertical-align: middle;\n",
       "    }\n",
       "\n",
       "    .dataframe tbody tr th {\n",
       "        vertical-align: top;\n",
       "    }\n",
       "\n",
       "    .dataframe thead th {\n",
       "        text-align: right;\n",
       "    }\n",
       "</style>\n",
       "<table border=\"1\" class=\"dataframe\">\n",
       "  <thead>\n",
       "    <tr style=\"text-align: right;\">\n",
       "      <th></th>\n",
       "      <th>Month</th>\n",
       "      <th>Reengineer</th>\n",
       "      <th>Employee_Turnover</th>\n",
       "      <th>VAR4</th>\n",
       "      <th>VAR5</th>\n",
       "    </tr>\n",
       "  </thead>\n",
       "  <tbody>\n",
       "    <tr>\n",
       "      <th>0</th>\n",
       "      <td>1</td>\n",
       "      <td>Prior</td>\n",
       "      <td>0.0000</td>\n",
       "      <td>24.390244</td>\n",
       "      <td>42.682927</td>\n",
       "    </tr>\n",
       "    <tr>\n",
       "      <th>1</th>\n",
       "      <td>2</td>\n",
       "      <td>Prior</td>\n",
       "      <td>6.0606</td>\n",
       "      <td>19.354839</td>\n",
       "      <td>25.806452</td>\n",
       "    </tr>\n",
       "    <tr>\n",
       "      <th>2</th>\n",
       "      <td>3</td>\n",
       "      <td>Prior</td>\n",
       "      <td>12.1212</td>\n",
       "      <td>35.087719</td>\n",
       "      <td>146.198830</td>\n",
       "    </tr>\n",
       "    <tr>\n",
       "      <th>3</th>\n",
       "      <td>4</td>\n",
       "      <td>Prior</td>\n",
       "      <td>3.3333</td>\n",
       "      <td>18.404908</td>\n",
       "      <td>110.429448</td>\n",
       "    </tr>\n",
       "    <tr>\n",
       "      <th>4</th>\n",
       "      <td>5</td>\n",
       "      <td>Prior</td>\n",
       "      <td>12.9032</td>\n",
       "      <td>17.964072</td>\n",
       "      <td>23.952096</td>\n",
       "    </tr>\n",
       "    <tr>\n",
       "      <th>5</th>\n",
       "      <td>6</td>\n",
       "      <td>Prior</td>\n",
       "      <td>9.6774</td>\n",
       "      <td>41.176471</td>\n",
       "      <td>47.058824</td>\n",
       "    </tr>\n",
       "    <tr>\n",
       "      <th>6</th>\n",
       "      <td>7</td>\n",
       "      <td>Prior</td>\n",
       "      <td>11.7647</td>\n",
       "      <td>13.422819</td>\n",
       "      <td>0.000000</td>\n",
       "    </tr>\n",
       "    <tr>\n",
       "      <th>7</th>\n",
       "      <td>8</td>\n",
       "      <td>Prior</td>\n",
       "      <td>11.4286</td>\n",
       "      <td>31.250000</td>\n",
       "      <td>25.000000</td>\n",
       "    </tr>\n",
       "    <tr>\n",
       "      <th>8</th>\n",
       "      <td>9</td>\n",
       "      <td>Prior</td>\n",
       "      <td>23.0769</td>\n",
       "      <td>17.241379</td>\n",
       "      <td>132.183908</td>\n",
       "    </tr>\n",
       "    <tr>\n",
       "      <th>9</th>\n",
       "      <td>10</td>\n",
       "      <td>Prior</td>\n",
       "      <td>15.0000</td>\n",
       "      <td>16.574586</td>\n",
       "      <td>16.574586</td>\n",
       "    </tr>\n",
       "    <tr>\n",
       "      <th>10</th>\n",
       "      <td>11</td>\n",
       "      <td>Prior</td>\n",
       "      <td>10.0000</td>\n",
       "      <td>5.917160</td>\n",
       "      <td>88.757396</td>\n",
       "    </tr>\n",
       "    <tr>\n",
       "      <th>11</th>\n",
       "      <td>12</td>\n",
       "      <td>Prior</td>\n",
       "      <td>26.0870</td>\n",
       "      <td>21.164021</td>\n",
       "      <td>31.746032</td>\n",
       "    </tr>\n",
       "    <tr>\n",
       "      <th>12</th>\n",
       "      <td>13</td>\n",
       "      <td>Prior</td>\n",
       "      <td>11.1111</td>\n",
       "      <td>5.076142</td>\n",
       "      <td>10.152284</td>\n",
       "    </tr>\n",
       "    <tr>\n",
       "      <th>13</th>\n",
       "      <td>14</td>\n",
       "      <td>Post</td>\n",
       "      <td>26.6667</td>\n",
       "      <td>9.708738</td>\n",
       "      <td>29.126214</td>\n",
       "    </tr>\n",
       "    <tr>\n",
       "      <th>14</th>\n",
       "      <td>15</td>\n",
       "      <td>Post</td>\n",
       "      <td>17.9487</td>\n",
       "      <td>4.201681</td>\n",
       "      <td>21.008403</td>\n",
       "    </tr>\n",
       "    <tr>\n",
       "      <th>15</th>\n",
       "      <td>16</td>\n",
       "      <td>Post</td>\n",
       "      <td>12.8205</td>\n",
       "      <td>13.043478</td>\n",
       "      <td>34.782609</td>\n",
       "    </tr>\n",
       "    <tr>\n",
       "      <th>16</th>\n",
       "      <td>17</td>\n",
       "      <td>Post</td>\n",
       "      <td>15.7895</td>\n",
       "      <td>9.950249</td>\n",
       "      <td>19.900498</td>\n",
       "    </tr>\n",
       "    <tr>\n",
       "      <th>17</th>\n",
       "      <td>18</td>\n",
       "      <td>Post</td>\n",
       "      <td>0.0000</td>\n",
       "      <td>9.950249</td>\n",
       "      <td>9.950249</td>\n",
       "    </tr>\n",
       "    <tr>\n",
       "      <th>18</th>\n",
       "      <td>19</td>\n",
       "      <td>Post</td>\n",
       "      <td>30.7692</td>\n",
       "      <td>8.510638</td>\n",
       "      <td>25.531915</td>\n",
       "    </tr>\n",
       "    <tr>\n",
       "      <th>19</th>\n",
       "      <td>20</td>\n",
       "      <td>Post</td>\n",
       "      <td>26.8293</td>\n",
       "      <td>9.259259</td>\n",
       "      <td>23.148148</td>\n",
       "    </tr>\n",
       "  </tbody>\n",
       "</table>\n",
       "</div>"
      ],
      "text/plain": [
       "    Month Reengineer  Employee_Turnover       VAR4        VAR5\n",
       "0       1      Prior             0.0000  24.390244   42.682927\n",
       "1       2      Prior             6.0606  19.354839   25.806452\n",
       "2       3      Prior            12.1212  35.087719  146.198830\n",
       "3       4      Prior             3.3333  18.404908  110.429448\n",
       "4       5      Prior            12.9032  17.964072   23.952096\n",
       "5       6      Prior             9.6774  41.176471   47.058824\n",
       "6       7      Prior            11.7647  13.422819    0.000000\n",
       "7       8      Prior            11.4286  31.250000   25.000000\n",
       "8       9      Prior            23.0769  17.241379  132.183908\n",
       "9      10      Prior            15.0000  16.574586   16.574586\n",
       "10     11      Prior            10.0000   5.917160   88.757396\n",
       "11     12      Prior            26.0870  21.164021   31.746032\n",
       "12     13      Prior            11.1111   5.076142   10.152284\n",
       "13     14       Post            26.6667   9.708738   29.126214\n",
       "14     15       Post            17.9487   4.201681   21.008403\n",
       "15     16       Post            12.8205  13.043478   34.782609\n",
       "16     17       Post            15.7895   9.950249   19.900498\n",
       "17     18       Post             0.0000   9.950249    9.950249\n",
       "18     19       Post            30.7692   8.510638   25.531915\n",
       "19     20       Post            26.8293   9.259259   23.148148"
      ]
     },
     "execution_count": 128,
     "metadata": {},
     "output_type": "execute_result"
    }
   ],
   "source": [
    "Treatment_fac"
   ]
  },
  {
   "cell_type": "code",
   "execution_count": 129,
   "id": "59c858e0-ec6c-4d49-b55e-34564b2bc50e",
   "metadata": {},
   "outputs": [
    {
     "data": {
      "text/plain": [
       "LeveneResult(statistic=4.1167822200189494, pvalue=0.05751543806297124)"
      ]
     },
     "execution_count": 129,
     "metadata": {},
     "output_type": "execute_result"
    }
   ],
   "source": [
    "stats.levene(Pre, Post)  ### To check variance "
   ]
  },
  {
   "cell_type": "code",
   "execution_count": 130,
   "id": "f5456f26-8410-4249-9a19-429c33c4e66d",
   "metadata": {},
   "outputs": [],
   "source": [
    "## WIth the given data we can not say that their is any effect on the reengineering efforts."
   ]
  },
  {
   "cell_type": "markdown",
   "id": "5f3253c6-6840-481c-9d12-86e32ea3a614",
   "metadata": {},
   "source": [
    "## BUSINESS PROBLEM 4"
   ]
  },
  {
   "cell_type": "raw",
   "id": "4df0e967-54f0-409f-9e7e-ee346844a3e7",
   "metadata": {},
   "source": [
    "BUSINESS PROBLEM: We will focus on the prioritization system. If the system is working, then\n",
    "high priority jobs, on average, should be completed more quickly than medium priority jobs,\n",
    "and medium priority jobs should be completed more quickly than low priority jobs. Use the\n",
    "data provided to determine whether this is, in fact, occurring."
   ]
  },
  {
   "cell_type": "code",
   "execution_count": 132,
   "id": "23cfa8ed-910c-4882-bf3d-1cfa54baa8e4",
   "metadata": {},
   "outputs": [],
   "source": [
    "Priority_ass = pd.read_csv(r'C:\\Users\\DELL\\Desktop\\Python\\4. Basic Statistics - Hypothesis Testing\\\\Priority_Assessment.csv')"
   ]
  },
  {
   "cell_type": "code",
   "execution_count": 133,
   "id": "36354c79-a2fc-485e-b9cd-5c135fe247b5",
   "metadata": {},
   "outputs": [
    {
     "data": {
      "text/html": [
       "<div>\n",
       "<style scoped>\n",
       "    .dataframe tbody tr th:only-of-type {\n",
       "        vertical-align: middle;\n",
       "    }\n",
       "\n",
       "    .dataframe tbody tr th {\n",
       "        vertical-align: top;\n",
       "    }\n",
       "\n",
       "    .dataframe thead th {\n",
       "        text-align: right;\n",
       "    }\n",
       "</style>\n",
       "<table border=\"1\" class=\"dataframe\">\n",
       "  <thead>\n",
       "    <tr style=\"text-align: right;\">\n",
       "      <th></th>\n",
       "      <th>Days</th>\n",
       "      <th>Priority</th>\n",
       "    </tr>\n",
       "  </thead>\n",
       "  <tbody>\n",
       "    <tr>\n",
       "      <th>0</th>\n",
       "      <td>3.3</td>\n",
       "      <td>High</td>\n",
       "    </tr>\n",
       "    <tr>\n",
       "      <th>1</th>\n",
       "      <td>7.9</td>\n",
       "      <td>Medium</td>\n",
       "    </tr>\n",
       "    <tr>\n",
       "      <th>2</th>\n",
       "      <td>0.3</td>\n",
       "      <td>High</td>\n",
       "    </tr>\n",
       "  </tbody>\n",
       "</table>\n",
       "</div>"
      ],
      "text/plain": [
       "   Days Priority\n",
       "0   3.3     High\n",
       "1   7.9   Medium\n",
       "2   0.3     High"
      ]
     },
     "execution_count": 133,
     "metadata": {},
     "output_type": "execute_result"
    }
   ],
   "source": [
    "Priority_ass.head(3)"
   ]
  },
  {
   "cell_type": "raw",
   "id": "b935a300-7f28-43fe-8b8b-1e4795a36218",
   "metadata": {},
   "source": [
    "Ho - new is not working\n",
    "H1 - New system is working"
   ]
  },
  {
   "cell_type": "code",
   "execution_count": 134,
   "id": "90b898ee-c676-4689-8766-e48902250b3b",
   "metadata": {},
   "outputs": [],
   "source": [
    "High = Priority_ass[Priority_ass['Priority'] == 'High']['Days']\n",
    "Medium = Priority_ass[Priority_ass['Priority'] == 'Medium']['Days']\n",
    "Low = Priority_ass[Priority_ass['Priority'] == 'Low']['Days']"
   ]
  },
  {
   "cell_type": "code",
   "execution_count": 135,
   "id": "73f4becf-43a6-4de7-8ace-df8852436c1e",
   "metadata": {},
   "outputs": [
    {
     "data": {
      "text/plain": [
       "F_onewayResult(statistic=1.812311010076072, pvalue=0.16411459461716182)"
      ]
     },
     "execution_count": 135,
     "metadata": {},
     "output_type": "execute_result"
    }
   ],
   "source": [
    "stats.f_oneway(High,Medium,Low)"
   ]
  },
  {
   "cell_type": "markdown",
   "id": "80472392-ceff-4a3b-bf56-b21bbabf89d5",
   "metadata": {},
   "source": [
    "## Business Problem 5"
   ]
  },
  {
   "cell_type": "code",
   "execution_count": 137,
   "id": "da02cf08-5cac-42e8-bdea-515567d322ab",
   "metadata": {},
   "outputs": [],
   "source": [
    "Films = pd.read_csv(r'C:\\Users\\DELL\\Desktop\\Python\\4. Basic Statistics - Hypothesis Testing\\Films.csv')"
   ]
  },
  {
   "cell_type": "code",
   "execution_count": 138,
   "id": "80ffbcf1-2b6e-4b66-b83a-8a03d179cd14",
   "metadata": {},
   "outputs": [],
   "source": [
    "Films.dropna(axis = 0, inplace = True)"
   ]
  },
  {
   "cell_type": "code",
   "execution_count": 139,
   "id": "a0add048-bbc6-4cf2-a085-6a87a9e48c59",
   "metadata": {},
   "outputs": [
    {
     "data": {
      "text/plain": [
       "_rowstate_        0\n",
       "Movie             0\n",
       "Gender            0\n",
       "Marital_Status    0\n",
       "Sinage            0\n",
       "Parking           0\n",
       "Clean             0\n",
       "Overall           0\n",
       "Age               0\n",
       "Income            0\n",
       "Hear_About        0\n",
       "dtype: int64"
      ]
     },
     "execution_count": 139,
     "metadata": {},
     "output_type": "execute_result"
    }
   ],
   "source": [
    "Films.isna().sum()"
   ]
  },
  {
   "cell_type": "code",
   "execution_count": 140,
   "id": "fd1c5570-f351-4a19-aaa5-7161709d0758",
   "metadata": {},
   "outputs": [],
   "source": [
    "# What is the overall level of customer satisfaction?"
   ]
  },
  {
   "cell_type": "code",
   "execution_count": 141,
   "id": "3e5f60c3-4ed0-4b10-a199-802c486cd78d",
   "metadata": {},
   "outputs": [],
   "source": [
    "overall = Films.groupby('Overall')[['Overall']].count()"
   ]
  },
  {
   "cell_type": "code",
   "execution_count": 142,
   "id": "6def3e47-4e71-4bee-9b77-271e2a8e07e9",
   "metadata": {},
   "outputs": [
    {
     "data": {
      "text/html": [
       "<div>\n",
       "<style scoped>\n",
       "    .dataframe tbody tr th:only-of-type {\n",
       "        vertical-align: middle;\n",
       "    }\n",
       "\n",
       "    .dataframe tbody tr th {\n",
       "        vertical-align: top;\n",
       "    }\n",
       "\n",
       "    .dataframe thead th {\n",
       "        text-align: right;\n",
       "    }\n",
       "</style>\n",
       "<table border=\"1\" class=\"dataframe\">\n",
       "  <thead>\n",
       "    <tr style=\"text-align: right;\">\n",
       "      <th></th>\n",
       "      <th>Overall</th>\n",
       "    </tr>\n",
       "    <tr>\n",
       "      <th>Overall</th>\n",
       "      <th></th>\n",
       "    </tr>\n",
       "  </thead>\n",
       "  <tbody>\n",
       "    <tr>\n",
       "      <th>1.0</th>\n",
       "      <td>137</td>\n",
       "    </tr>\n",
       "    <tr>\n",
       "      <th>2.0</th>\n",
       "      <td>148</td>\n",
       "    </tr>\n",
       "    <tr>\n",
       "      <th>3.0</th>\n",
       "      <td>12</td>\n",
       "    </tr>\n",
       "    <tr>\n",
       "      <th>4.0</th>\n",
       "      <td>1</td>\n",
       "    </tr>\n",
       "    <tr>\n",
       "      <th>5.0</th>\n",
       "      <td>3</td>\n",
       "    </tr>\n",
       "  </tbody>\n",
       "</table>\n",
       "</div>"
      ],
      "text/plain": [
       "         Overall\n",
       "Overall         \n",
       "1.0          137\n",
       "2.0          148\n",
       "3.0           12\n",
       "4.0            1\n",
       "5.0            3"
      ]
     },
     "execution_count": 142,
     "metadata": {},
     "output_type": "execute_result"
    }
   ],
   "source": [
    "overall"
   ]
  },
  {
   "cell_type": "code",
   "execution_count": 143,
   "id": "0da33433-1847-4edd-8902-49b156af072b",
   "metadata": {},
   "outputs": [],
   "source": [
    "overall = overall.rename( columns={'Overall': 'count'}).reset_index()\n"
   ]
  },
  {
   "cell_type": "code",
   "execution_count": 144,
   "id": "cdb3f917-2212-4ae0-b24d-739375b06cd3",
   "metadata": {},
   "outputs": [
    {
     "data": {
      "text/plain": [
       "count\n",
       "1        1.0\n",
       "3        3.0\n",
       "12      12.0\n",
       "137    137.0\n",
       "148    148.0\n",
       "Name: count, dtype: float64"
      ]
     },
     "execution_count": 144,
     "metadata": {},
     "output_type": "execute_result"
    }
   ],
   "source": [
    "overall.groupby('count')['count'].mean()"
   ]
  },
  {
   "cell_type": "code",
   "execution_count": 145,
   "id": "f7456357-46a8-4921-9004-d4093b7b2910",
   "metadata": {},
   "outputs": [],
   "source": [
    "overall =overall.rename( columns={'Overall': 'Satisfaction level'})"
   ]
  },
  {
   "cell_type": "code",
   "execution_count": 146,
   "id": "290958a2-9f91-4bdd-b083-1e3d7a99abd4",
   "metadata": {},
   "outputs": [
    {
     "data": {
      "text/html": [
       "<div>\n",
       "<style scoped>\n",
       "    .dataframe tbody tr th:only-of-type {\n",
       "        vertical-align: middle;\n",
       "    }\n",
       "\n",
       "    .dataframe tbody tr th {\n",
       "        vertical-align: top;\n",
       "    }\n",
       "\n",
       "    .dataframe thead th {\n",
       "        text-align: right;\n",
       "    }\n",
       "</style>\n",
       "<table border=\"1\" class=\"dataframe\">\n",
       "  <thead>\n",
       "    <tr style=\"text-align: right;\">\n",
       "      <th></th>\n",
       "      <th>Satisfaction level</th>\n",
       "      <th>count</th>\n",
       "    </tr>\n",
       "  </thead>\n",
       "  <tbody>\n",
       "    <tr>\n",
       "      <th>0</th>\n",
       "      <td>1.0</td>\n",
       "      <td>137</td>\n",
       "    </tr>\n",
       "    <tr>\n",
       "      <th>1</th>\n",
       "      <td>2.0</td>\n",
       "      <td>148</td>\n",
       "    </tr>\n",
       "    <tr>\n",
       "      <th>2</th>\n",
       "      <td>3.0</td>\n",
       "      <td>12</td>\n",
       "    </tr>\n",
       "    <tr>\n",
       "      <th>3</th>\n",
       "      <td>4.0</td>\n",
       "      <td>1</td>\n",
       "    </tr>\n",
       "    <tr>\n",
       "      <th>4</th>\n",
       "      <td>5.0</td>\n",
       "      <td>3</td>\n",
       "    </tr>\n",
       "  </tbody>\n",
       "</table>\n",
       "</div>"
      ],
      "text/plain": [
       "   Satisfaction level  count\n",
       "0                 1.0    137\n",
       "1                 2.0    148\n",
       "2                 3.0     12\n",
       "3                 4.0      1\n",
       "4                 5.0      3"
      ]
     },
     "execution_count": 146,
     "metadata": {},
     "output_type": "execute_result"
    }
   ],
   "source": [
    "overall"
   ]
  },
  {
   "cell_type": "code",
   "execution_count": 147,
   "id": "0b84d60b-d449-46db-b5f2-8df68e8fb744",
   "metadata": {},
   "outputs": [],
   "source": [
    "overall['Prob'] = overall['count'] / overall['count'].sum()"
   ]
  },
  {
   "cell_type": "code",
   "execution_count": 148,
   "id": "20247a54-8ecd-4a90-a777-89aa5ad7d9cd",
   "metadata": {},
   "outputs": [
    {
     "data": {
      "text/html": [
       "<div>\n",
       "<style scoped>\n",
       "    .dataframe tbody tr th:only-of-type {\n",
       "        vertical-align: middle;\n",
       "    }\n",
       "\n",
       "    .dataframe tbody tr th {\n",
       "        vertical-align: top;\n",
       "    }\n",
       "\n",
       "    .dataframe thead th {\n",
       "        text-align: right;\n",
       "    }\n",
       "</style>\n",
       "<table border=\"1\" class=\"dataframe\">\n",
       "  <thead>\n",
       "    <tr style=\"text-align: right;\">\n",
       "      <th></th>\n",
       "      <th>Satisfaction level</th>\n",
       "      <th>count</th>\n",
       "      <th>Prob</th>\n",
       "    </tr>\n",
       "  </thead>\n",
       "  <tbody>\n",
       "    <tr>\n",
       "      <th>0</th>\n",
       "      <td>1.0</td>\n",
       "      <td>137</td>\n",
       "      <td>0.455150</td>\n",
       "    </tr>\n",
       "    <tr>\n",
       "      <th>1</th>\n",
       "      <td>2.0</td>\n",
       "      <td>148</td>\n",
       "      <td>0.491694</td>\n",
       "    </tr>\n",
       "    <tr>\n",
       "      <th>2</th>\n",
       "      <td>3.0</td>\n",
       "      <td>12</td>\n",
       "      <td>0.039867</td>\n",
       "    </tr>\n",
       "    <tr>\n",
       "      <th>3</th>\n",
       "      <td>4.0</td>\n",
       "      <td>1</td>\n",
       "      <td>0.003322</td>\n",
       "    </tr>\n",
       "    <tr>\n",
       "      <th>4</th>\n",
       "      <td>5.0</td>\n",
       "      <td>3</td>\n",
       "      <td>0.009967</td>\n",
       "    </tr>\n",
       "  </tbody>\n",
       "</table>\n",
       "</div>"
      ],
      "text/plain": [
       "   Satisfaction level  count      Prob\n",
       "0                 1.0    137  0.455150\n",
       "1                 2.0    148  0.491694\n",
       "2                 3.0     12  0.039867\n",
       "3                 4.0      1  0.003322\n",
       "4                 5.0      3  0.009967"
      ]
     },
     "execution_count": 148,
     "metadata": {},
     "output_type": "execute_result"
    }
   ],
   "source": [
    "overall"
   ]
  },
  {
   "cell_type": "markdown",
   "id": "0052217e-9d4d-4e9e-b758-f2baa3b4a7e2",
   "metadata": {},
   "source": [
    "# What factors are linked to satisfaction?\n",
    "Ho - No relation\n",
    "H1 - Related"
   ]
  },
  {
   "cell_type": "code",
   "execution_count": 150,
   "id": "4f2d6316-b562-4dbd-b057-6301aba71b3d",
   "metadata": {},
   "outputs": [],
   "source": [
    "Si = pd.crosstab(Films['Sinage'],Films['Overall'])\n",
    "P = pd.crosstab(Films['Parking'],Films['Overall'])\n",
    "c = pd.crosstab(Films['Clean'],Films['Overall'])\n"
   ]
  },
  {
   "cell_type": "code",
   "execution_count": 151,
   "id": "32d81def-078e-43b7-8199-65aef3b8cfa3",
   "metadata": {},
   "outputs": [
    {
     "data": {
      "text/plain": [
       "Chi2ContingencyResult(statistic=121.32462033201084, pvalue=3.054444776360607e-18, dof=16, expected_freq=array([[4.77906977e+01, 5.16279070e+01, 4.18604651e+00, 3.48837209e-01,\n",
       "        1.04651163e+00],\n",
       "       [6.37209302e+01, 6.88372093e+01, 5.58139535e+00, 4.65116279e-01,\n",
       "        1.39534884e+00],\n",
       "       [2.04817276e+01, 2.21262458e+01, 1.79401993e+00, 1.49501661e-01,\n",
       "        4.48504983e-01],\n",
       "       [2.73089701e+00, 2.95016611e+00, 2.39202658e-01, 1.99335548e-02,\n",
       "        5.98006645e-02],\n",
       "       [2.27574751e+00, 2.45847176e+00, 1.99335548e-01, 1.66112957e-02,\n",
       "        4.98338870e-02]]))"
      ]
     },
     "execution_count": 151,
     "metadata": {},
     "output_type": "execute_result"
    }
   ],
   "source": [
    "stats.chi2_contingency(Si)"
   ]
  },
  {
   "cell_type": "code",
   "execution_count": 152,
   "id": "92c0d906-60ec-448d-a71c-1c6266757f5d",
   "metadata": {},
   "outputs": [
    {
     "data": {
      "text/plain": [
       "Chi2ContingencyResult(statistic=218.79348282085004, pvalue=1.2264032549812005e-37, dof=16, expected_freq=array([[5.55282392e+01, 5.99867110e+01, 4.86378738e+00, 4.05315615e-01,\n",
       "        1.21594684e+00],\n",
       "       [6.32657807e+01, 6.83455150e+01, 5.54152824e+00, 4.61794020e-01,\n",
       "        1.38538206e+00],\n",
       "       [1.31993355e+01, 1.42591362e+01, 1.15614618e+00, 9.63455150e-02,\n",
       "        2.89036545e-01],\n",
       "       [3.18604651e+00, 3.44186047e+00, 2.79069767e-01, 2.32558140e-02,\n",
       "        6.97674419e-02],\n",
       "       [1.82059801e+00, 1.96677741e+00, 1.59468439e-01, 1.32890365e-02,\n",
       "        3.98671096e-02]]))"
      ]
     },
     "execution_count": 152,
     "metadata": {},
     "output_type": "execute_result"
    }
   ],
   "source": [
    "stats.chi2_contingency(P)"
   ]
  },
  {
   "cell_type": "code",
   "execution_count": 153,
   "id": "4c8e2305-2819-42dd-b307-dd98b994a960",
   "metadata": {},
   "outputs": [
    {
     "data": {
      "text/plain": [
       "Chi2ContingencyResult(statistic=129.0342392337068, pvalue=9.882317099745693e-20, dof=16, expected_freq=array([[6.09900332e+01, 6.58870432e+01, 5.34219269e+00, 4.45182724e-01,\n",
       "        1.33554817e+00],\n",
       "       [6.28106312e+01, 6.78538206e+01, 5.50166113e+00, 4.58471761e-01,\n",
       "        1.37541528e+00],\n",
       "       [1.00132890e+01, 1.08172757e+01, 8.77076412e-01, 7.30897010e-02,\n",
       "        2.19269103e-01],\n",
       "       [2.27574751e+00, 2.45847176e+00, 1.99335548e-01, 1.66112957e-02,\n",
       "        4.98338870e-02],\n",
       "       [9.10299003e-01, 9.83388704e-01, 7.97342193e-02, 6.64451827e-03,\n",
       "        1.99335548e-02]]))"
      ]
     },
     "execution_count": 153,
     "metadata": {},
     "output_type": "execute_result"
    }
   ],
   "source": [
    "stats.chi2_contingency(c)"
   ]
  },
  {
   "cell_type": "code",
   "execution_count": 154,
   "id": "0af1114c-0b92-44bb-b8bc-b6c6701a59c0",
   "metadata": {},
   "outputs": [
    {
     "data": {
      "text/html": [
       "<div>\n",
       "<style scoped>\n",
       "    .dataframe tbody tr th:only-of-type {\n",
       "        vertical-align: middle;\n",
       "    }\n",
       "\n",
       "    .dataframe tbody tr th {\n",
       "        vertical-align: top;\n",
       "    }\n",
       "\n",
       "    .dataframe thead th {\n",
       "        text-align: right;\n",
       "    }\n",
       "</style>\n",
       "<table border=\"1\" class=\"dataframe\">\n",
       "  <thead>\n",
       "    <tr style=\"text-align: right;\">\n",
       "      <th></th>\n",
       "      <th>Overall</th>\n",
       "      <th>Sinage</th>\n",
       "      <th>Parking</th>\n",
       "      <th>Clean</th>\n",
       "    </tr>\n",
       "  </thead>\n",
       "  <tbody>\n",
       "    <tr>\n",
       "      <th>Overall</th>\n",
       "      <td>1.000000</td>\n",
       "      <td>0.410689</td>\n",
       "      <td>0.547717</td>\n",
       "      <td>0.385523</td>\n",
       "    </tr>\n",
       "    <tr>\n",
       "      <th>Sinage</th>\n",
       "      <td>0.410689</td>\n",
       "      <td>1.000000</td>\n",
       "      <td>0.470412</td>\n",
       "      <td>0.365028</td>\n",
       "    </tr>\n",
       "    <tr>\n",
       "      <th>Parking</th>\n",
       "      <td>0.547717</td>\n",
       "      <td>0.470412</td>\n",
       "      <td>1.000000</td>\n",
       "      <td>0.457018</td>\n",
       "    </tr>\n",
       "    <tr>\n",
       "      <th>Clean</th>\n",
       "      <td>0.385523</td>\n",
       "      <td>0.365028</td>\n",
       "      <td>0.457018</td>\n",
       "      <td>1.000000</td>\n",
       "    </tr>\n",
       "  </tbody>\n",
       "</table>\n",
       "</div>"
      ],
      "text/plain": [
       "          Overall    Sinage   Parking     Clean\n",
       "Overall  1.000000  0.410689  0.547717  0.385523\n",
       "Sinage   0.410689  1.000000  0.470412  0.365028\n",
       "Parking  0.547717  0.470412  1.000000  0.457018\n",
       "Clean    0.385523  0.365028  0.457018  1.000000"
      ]
     },
     "execution_count": 154,
     "metadata": {},
     "output_type": "execute_result"
    }
   ],
   "source": [
    "Films[['Overall','Sinage','Parking','Clean']].corr()"
   ]
  },
  {
   "cell_type": "code",
   "execution_count": 155,
   "id": "4067f0f5-600c-4661-9e51-1a1ba9ff57e5",
   "metadata": {},
   "outputs": [],
   "source": [
    "# What is the demographic profile of Film on the Rocks patrons?"
   ]
  },
  {
   "cell_type": "code",
   "execution_count": 156,
   "id": "492053f5-bddc-45f8-b4dd-d89c578859df",
   "metadata": {},
   "outputs": [
    {
     "data": {
      "text/html": [
       "<div>\n",
       "<style scoped>\n",
       "    .dataframe tbody tr th:only-of-type {\n",
       "        vertical-align: middle;\n",
       "    }\n",
       "\n",
       "    .dataframe tbody tr th {\n",
       "        vertical-align: top;\n",
       "    }\n",
       "\n",
       "    .dataframe thead th {\n",
       "        text-align: right;\n",
       "    }\n",
       "</style>\n",
       "<table border=\"1\" class=\"dataframe\">\n",
       "  <thead>\n",
       "    <tr style=\"text-align: right;\">\n",
       "      <th></th>\n",
       "      <th>Gender</th>\n",
       "    </tr>\n",
       "    <tr>\n",
       "      <th>Gender</th>\n",
       "      <th></th>\n",
       "    </tr>\n",
       "  </thead>\n",
       "  <tbody>\n",
       "    <tr>\n",
       "      <th>1</th>\n",
       "      <td>93</td>\n",
       "    </tr>\n",
       "    <tr>\n",
       "      <th>2</th>\n",
       "      <td>179</td>\n",
       "    </tr>\n",
       "    <tr>\n",
       "      <th>Female</th>\n",
       "      <td>16</td>\n",
       "    </tr>\n",
       "    <tr>\n",
       "      <th>Male</th>\n",
       "      <td>13</td>\n",
       "    </tr>\n",
       "  </tbody>\n",
       "</table>\n",
       "</div>"
      ],
      "text/plain": [
       "        Gender\n",
       "Gender        \n",
       "1           93\n",
       "2          179\n",
       "Female      16\n",
       "Male        13"
      ]
     },
     "execution_count": 156,
     "metadata": {},
     "output_type": "execute_result"
    }
   ],
   "source": [
    "GenderP = Films.groupby('Gender')[['Gender']].count()\n",
    "GenderP"
   ]
  },
  {
   "cell_type": "code",
   "execution_count": 157,
   "id": "c90b480f-7585-4fb6-aaaa-d1c6a5402fd2",
   "metadata": {},
   "outputs": [
    {
     "data": {
      "text/html": [
       "<div>\n",
       "<style scoped>\n",
       "    .dataframe tbody tr th:only-of-type {\n",
       "        vertical-align: middle;\n",
       "    }\n",
       "\n",
       "    .dataframe tbody tr th {\n",
       "        vertical-align: top;\n",
       "    }\n",
       "\n",
       "    .dataframe thead th {\n",
       "        text-align: right;\n",
       "    }\n",
       "</style>\n",
       "<table border=\"1\" class=\"dataframe\">\n",
       "  <thead>\n",
       "    <tr style=\"text-align: right;\">\n",
       "      <th></th>\n",
       "      <th>Gender</th>\n",
       "      <th>Count</th>\n",
       "    </tr>\n",
       "  </thead>\n",
       "  <tbody>\n",
       "    <tr>\n",
       "      <th>0</th>\n",
       "      <td>1</td>\n",
       "      <td>93</td>\n",
       "    </tr>\n",
       "    <tr>\n",
       "      <th>1</th>\n",
       "      <td>2</td>\n",
       "      <td>179</td>\n",
       "    </tr>\n",
       "    <tr>\n",
       "      <th>2</th>\n",
       "      <td>Female</td>\n",
       "      <td>16</td>\n",
       "    </tr>\n",
       "    <tr>\n",
       "      <th>3</th>\n",
       "      <td>Male</td>\n",
       "      <td>13</td>\n",
       "    </tr>\n",
       "  </tbody>\n",
       "</table>\n",
       "</div>"
      ],
      "text/plain": [
       "   Gender  Count\n",
       "0       1     93\n",
       "1       2    179\n",
       "2  Female     16\n",
       "3    Male     13"
      ]
     },
     "execution_count": 157,
     "metadata": {},
     "output_type": "execute_result"
    }
   ],
   "source": [
    "GenderP = GenderP.rename(columns = {'Gender' : 'Count'}).reset_index()\n",
    "GenderP"
   ]
  },
  {
   "cell_type": "code",
   "execution_count": 158,
   "id": "3a9745a1-0bf5-4821-9e42-83cd13ce84b8",
   "metadata": {},
   "outputs": [],
   "source": [
    "GenderP['Prob'] = GenderP['Count']/GenderP['Count'].sum()"
   ]
  },
  {
   "cell_type": "code",
   "execution_count": 159,
   "id": "8a0b2103-b70e-4262-92b9-dc7e1f6db249",
   "metadata": {},
   "outputs": [
    {
     "data": {
      "text/html": [
       "<div>\n",
       "<style scoped>\n",
       "    .dataframe tbody tr th:only-of-type {\n",
       "        vertical-align: middle;\n",
       "    }\n",
       "\n",
       "    .dataframe tbody tr th {\n",
       "        vertical-align: top;\n",
       "    }\n",
       "\n",
       "    .dataframe thead th {\n",
       "        text-align: right;\n",
       "    }\n",
       "</style>\n",
       "<table border=\"1\" class=\"dataframe\">\n",
       "  <thead>\n",
       "    <tr style=\"text-align: right;\">\n",
       "      <th></th>\n",
       "      <th>Gender</th>\n",
       "      <th>Count</th>\n",
       "      <th>Prob</th>\n",
       "    </tr>\n",
       "  </thead>\n",
       "  <tbody>\n",
       "    <tr>\n",
       "      <th>0</th>\n",
       "      <td>1</td>\n",
       "      <td>93</td>\n",
       "      <td>0.308970</td>\n",
       "    </tr>\n",
       "    <tr>\n",
       "      <th>1</th>\n",
       "      <td>2</td>\n",
       "      <td>179</td>\n",
       "      <td>0.594684</td>\n",
       "    </tr>\n",
       "    <tr>\n",
       "      <th>2</th>\n",
       "      <td>Female</td>\n",
       "      <td>16</td>\n",
       "      <td>0.053156</td>\n",
       "    </tr>\n",
       "    <tr>\n",
       "      <th>3</th>\n",
       "      <td>Male</td>\n",
       "      <td>13</td>\n",
       "      <td>0.043189</td>\n",
       "    </tr>\n",
       "  </tbody>\n",
       "</table>\n",
       "</div>"
      ],
      "text/plain": [
       "   Gender  Count      Prob\n",
       "0       1     93  0.308970\n",
       "1       2    179  0.594684\n",
       "2  Female     16  0.053156\n",
       "3    Male     13  0.043189"
      ]
     },
     "execution_count": 159,
     "metadata": {},
     "output_type": "execute_result"
    }
   ],
   "source": [
    "GenderP"
   ]
  },
  {
   "cell_type": "code",
   "execution_count": 160,
   "id": "3b2a7b03-dcc6-4542-b08a-5cf6b4f393a6",
   "metadata": {},
   "outputs": [],
   "source": [
    "Films['Gender'] = Films['Gender'].replace({'1': 'Male', '2': 'Female'})"
   ]
  },
  {
   "cell_type": "code",
   "execution_count": 161,
   "id": "8b559a19-54e1-4964-9e45-925bc0dfaf84",
   "metadata": {},
   "outputs": [
    {
     "data": {
      "text/html": [
       "<div>\n",
       "<style scoped>\n",
       "    .dataframe tbody tr th:only-of-type {\n",
       "        vertical-align: middle;\n",
       "    }\n",
       "\n",
       "    .dataframe tbody tr th {\n",
       "        vertical-align: top;\n",
       "    }\n",
       "\n",
       "    .dataframe thead th {\n",
       "        text-align: right;\n",
       "    }\n",
       "</style>\n",
       "<table border=\"1\" class=\"dataframe\">\n",
       "  <thead>\n",
       "    <tr style=\"text-align: right;\">\n",
       "      <th></th>\n",
       "      <th>_rowstate_</th>\n",
       "      <th>Movie</th>\n",
       "      <th>Gender</th>\n",
       "      <th>Marital_Status</th>\n",
       "      <th>Sinage</th>\n",
       "      <th>Parking</th>\n",
       "      <th>Clean</th>\n",
       "      <th>Overall</th>\n",
       "      <th>Age</th>\n",
       "      <th>Income</th>\n",
       "      <th>Hear_About</th>\n",
       "    </tr>\n",
       "  </thead>\n",
       "  <tbody>\n",
       "    <tr>\n",
       "      <th>0</th>\n",
       "      <td>0</td>\n",
       "      <td>Ferris Buellers Day Off</td>\n",
       "      <td>Female</td>\n",
       "      <td>Married</td>\n",
       "      <td>2.0</td>\n",
       "      <td>2.0</td>\n",
       "      <td>2.0</td>\n",
       "      <td>2.0</td>\n",
       "      <td>3.0</td>\n",
       "      <td>1.0</td>\n",
       "      <td>5</td>\n",
       "    </tr>\n",
       "    <tr>\n",
       "      <th>1</th>\n",
       "      <td>0</td>\n",
       "      <td>Ferris Buellers Day Off</td>\n",
       "      <td>Female</td>\n",
       "      <td>Single</td>\n",
       "      <td>1.0</td>\n",
       "      <td>1.0</td>\n",
       "      <td>1.0</td>\n",
       "      <td>1.0</td>\n",
       "      <td>2.0</td>\n",
       "      <td>1.0</td>\n",
       "      <td>5</td>\n",
       "    </tr>\n",
       "    <tr>\n",
       "      <th>2</th>\n",
       "      <td>0</td>\n",
       "      <td>Ferris Buellers Day Off</td>\n",
       "      <td>Male</td>\n",
       "      <td>Married</td>\n",
       "      <td>2.0</td>\n",
       "      <td>4.0</td>\n",
       "      <td>3.0</td>\n",
       "      <td>2.0</td>\n",
       "      <td>4.0</td>\n",
       "      <td>1.0</td>\n",
       "      <td>5</td>\n",
       "    </tr>\n",
       "    <tr>\n",
       "      <th>3</th>\n",
       "      <td>0</td>\n",
       "      <td>Ferris Buellers Day Off</td>\n",
       "      <td>Female</td>\n",
       "      <td>Married</td>\n",
       "      <td>1.0</td>\n",
       "      <td>3.0</td>\n",
       "      <td>2.0</td>\n",
       "      <td>2.0</td>\n",
       "      <td>4.0</td>\n",
       "      <td>1.0</td>\n",
       "      <td>5</td>\n",
       "    </tr>\n",
       "    <tr>\n",
       "      <th>4</th>\n",
       "      <td>0</td>\n",
       "      <td>Ferris Buellers Day Off</td>\n",
       "      <td>Female</td>\n",
       "      <td>Married</td>\n",
       "      <td>1.0</td>\n",
       "      <td>1.0</td>\n",
       "      <td>1.0</td>\n",
       "      <td>1.0</td>\n",
       "      <td>3.0</td>\n",
       "      <td>3.0</td>\n",
       "      <td>1</td>\n",
       "    </tr>\n",
       "    <tr>\n",
       "      <th>...</th>\n",
       "      <td>...</td>\n",
       "      <td>...</td>\n",
       "      <td>...</td>\n",
       "      <td>...</td>\n",
       "      <td>...</td>\n",
       "      <td>...</td>\n",
       "      <td>...</td>\n",
       "      <td>...</td>\n",
       "      <td>...</td>\n",
       "      <td>...</td>\n",
       "      <td>...</td>\n",
       "    </tr>\n",
       "    <tr>\n",
       "      <th>325</th>\n",
       "      <td>0</td>\n",
       "      <td>Old School</td>\n",
       "      <td>Female</td>\n",
       "      <td>2</td>\n",
       "      <td>1.0</td>\n",
       "      <td>2.0</td>\n",
       "      <td>1.0</td>\n",
       "      <td>1.0</td>\n",
       "      <td>2.0</td>\n",
       "      <td>1.0</td>\n",
       "      <td>1</td>\n",
       "    </tr>\n",
       "    <tr>\n",
       "      <th>326</th>\n",
       "      <td>0</td>\n",
       "      <td>Old School</td>\n",
       "      <td>Male</td>\n",
       "      <td>1</td>\n",
       "      <td>2.0</td>\n",
       "      <td>2.0</td>\n",
       "      <td>2.0</td>\n",
       "      <td>2.0</td>\n",
       "      <td>3.0</td>\n",
       "      <td>3.0</td>\n",
       "      <td>5</td>\n",
       "    </tr>\n",
       "    <tr>\n",
       "      <th>327</th>\n",
       "      <td>0</td>\n",
       "      <td>Old School</td>\n",
       "      <td>Female</td>\n",
       "      <td>1</td>\n",
       "      <td>2.0</td>\n",
       "      <td>1.0</td>\n",
       "      <td>1.0</td>\n",
       "      <td>2.0</td>\n",
       "      <td>2.0</td>\n",
       "      <td>2.0</td>\n",
       "      <td>5</td>\n",
       "    </tr>\n",
       "    <tr>\n",
       "      <th>328</th>\n",
       "      <td>0</td>\n",
       "      <td>Old School</td>\n",
       "      <td>Male</td>\n",
       "      <td>1</td>\n",
       "      <td>1.0</td>\n",
       "      <td>1.0</td>\n",
       "      <td>1.0</td>\n",
       "      <td>1.0</td>\n",
       "      <td>2.0</td>\n",
       "      <td>1.0</td>\n",
       "      <td>3</td>\n",
       "    </tr>\n",
       "    <tr>\n",
       "      <th>329</th>\n",
       "      <td>0</td>\n",
       "      <td>Old School</td>\n",
       "      <td>Female</td>\n",
       "      <td>2</td>\n",
       "      <td>2.0</td>\n",
       "      <td>2.0</td>\n",
       "      <td>3.0</td>\n",
       "      <td>1.0</td>\n",
       "      <td>2.0</td>\n",
       "      <td>1.0</td>\n",
       "      <td>5</td>\n",
       "    </tr>\n",
       "  </tbody>\n",
       "</table>\n",
       "<p>301 rows × 11 columns</p>\n",
       "</div>"
      ],
      "text/plain": [
       "     _rowstate_                    Movie  Gender Marital_Status  Sinage  \\\n",
       "0             0  Ferris Buellers Day Off  Female        Married     2.0   \n",
       "1             0  Ferris Buellers Day Off  Female         Single     1.0   \n",
       "2             0  Ferris Buellers Day Off    Male        Married     2.0   \n",
       "3             0  Ferris Buellers Day Off  Female        Married     1.0   \n",
       "4             0  Ferris Buellers Day Off  Female        Married     1.0   \n",
       "..          ...                      ...     ...            ...     ...   \n",
       "325           0               Old School  Female              2     1.0   \n",
       "326           0               Old School    Male              1     2.0   \n",
       "327           0               Old School  Female              1     2.0   \n",
       "328           0               Old School    Male              1     1.0   \n",
       "329           0               Old School  Female              2     2.0   \n",
       "\n",
       "     Parking  Clean  Overall  Age  Income Hear_About  \n",
       "0        2.0    2.0      2.0  3.0     1.0          5  \n",
       "1        1.0    1.0      1.0  2.0     1.0          5  \n",
       "2        4.0    3.0      2.0  4.0     1.0          5  \n",
       "3        3.0    2.0      2.0  4.0     1.0          5  \n",
       "4        1.0    1.0      1.0  3.0     3.0          1  \n",
       "..       ...    ...      ...  ...     ...        ...  \n",
       "325      2.0    1.0      1.0  2.0     1.0          1  \n",
       "326      2.0    2.0      2.0  3.0     3.0          5  \n",
       "327      1.0    1.0      2.0  2.0     2.0          5  \n",
       "328      1.0    1.0      1.0  2.0     1.0          3  \n",
       "329      2.0    3.0      1.0  2.0     1.0          5  \n",
       "\n",
       "[301 rows x 11 columns]"
      ]
     },
     "execution_count": 161,
     "metadata": {},
     "output_type": "execute_result"
    }
   ],
   "source": [
    "Films"
   ]
  },
  {
   "cell_type": "code",
   "execution_count": 162,
   "id": "de6efe35-2fe8-41fa-a3de-826f88c0fc98",
   "metadata": {},
   "outputs": [],
   "source": [
    "## In what media outlet(s) should the film series be advertised?"
   ]
  },
  {
   "cell_type": "code",
   "execution_count": 163,
   "id": "618dbcf9-a678-44f9-b667-c37b42bf87de",
   "metadata": {},
   "outputs": [],
   "source": [
    "HA = Films.groupby('Hear_About')[['Hear_About']].count()"
   ]
  },
  {
   "cell_type": "code",
   "execution_count": 164,
   "id": "5e83921b-43c7-4054-ac02-cca60a0ef416",
   "metadata": {},
   "outputs": [],
   "source": [
    "HA = HA.rename(columns = {'Hear_About' : 'Count'}).reset_index()"
   ]
  },
  {
   "cell_type": "code",
   "execution_count": 165,
   "id": "43eaf16a-ea3f-4416-a666-9100d5b4a4a3",
   "metadata": {},
   "outputs": [],
   "source": [
    "HA['Prob'] = HA['Count']/HA['Count'].sum()"
   ]
  },
  {
   "cell_type": "code",
   "execution_count": 166,
   "id": "d193c775-aecc-4c1b-bb09-883e490e326a",
   "metadata": {},
   "outputs": [
    {
     "data": {
      "text/html": [
       "<div>\n",
       "<style scoped>\n",
       "    .dataframe tbody tr th:only-of-type {\n",
       "        vertical-align: middle;\n",
       "    }\n",
       "\n",
       "    .dataframe tbody tr th {\n",
       "        vertical-align: top;\n",
       "    }\n",
       "\n",
       "    .dataframe thead th {\n",
       "        text-align: right;\n",
       "    }\n",
       "</style>\n",
       "<table border=\"1\" class=\"dataframe\">\n",
       "  <thead>\n",
       "    <tr style=\"text-align: right;\">\n",
       "      <th></th>\n",
       "      <th>Hear_About</th>\n",
       "      <th>Count</th>\n",
       "      <th>Prob</th>\n",
       "    </tr>\n",
       "  </thead>\n",
       "  <tbody>\n",
       "    <tr>\n",
       "      <th>0</th>\n",
       "      <td>1</td>\n",
       "      <td>19</td>\n",
       "      <td>0.063123</td>\n",
       "    </tr>\n",
       "    <tr>\n",
       "      <th>1</th>\n",
       "      <td>1,5</td>\n",
       "      <td>1</td>\n",
       "      <td>0.003322</td>\n",
       "    </tr>\n",
       "    <tr>\n",
       "      <th>2</th>\n",
       "      <td>2</td>\n",
       "      <td>11</td>\n",
       "      <td>0.036545</td>\n",
       "    </tr>\n",
       "    <tr>\n",
       "      <th>3</th>\n",
       "      <td>2,5</td>\n",
       "      <td>2</td>\n",
       "      <td>0.006645</td>\n",
       "    </tr>\n",
       "    <tr>\n",
       "      <th>4</th>\n",
       "      <td>3</td>\n",
       "      <td>13</td>\n",
       "      <td>0.043189</td>\n",
       "    </tr>\n",
       "    <tr>\n",
       "      <th>5</th>\n",
       "      <td>3,4</td>\n",
       "      <td>1</td>\n",
       "      <td>0.003322</td>\n",
       "    </tr>\n",
       "    <tr>\n",
       "      <th>6</th>\n",
       "      <td>3,5</td>\n",
       "      <td>1</td>\n",
       "      <td>0.003322</td>\n",
       "    </tr>\n",
       "    <tr>\n",
       "      <th>7</th>\n",
       "      <td>4</td>\n",
       "      <td>39</td>\n",
       "      <td>0.129568</td>\n",
       "    </tr>\n",
       "    <tr>\n",
       "      <th>8</th>\n",
       "      <td>4,5</td>\n",
       "      <td>1</td>\n",
       "      <td>0.003322</td>\n",
       "    </tr>\n",
       "    <tr>\n",
       "      <th>9</th>\n",
       "      <td>5</td>\n",
       "      <td>212</td>\n",
       "      <td>0.704319</td>\n",
       "    </tr>\n",
       "    <tr>\n",
       "      <th>10</th>\n",
       "      <td>5,4</td>\n",
       "      <td>1</td>\n",
       "      <td>0.003322</td>\n",
       "    </tr>\n",
       "  </tbody>\n",
       "</table>\n",
       "</div>"
      ],
      "text/plain": [
       "   Hear_About  Count      Prob\n",
       "0           1     19  0.063123\n",
       "1         1,5      1  0.003322\n",
       "2           2     11  0.036545\n",
       "3         2,5      2  0.006645\n",
       "4           3     13  0.043189\n",
       "5         3,4      1  0.003322\n",
       "6         3,5      1  0.003322\n",
       "7           4     39  0.129568\n",
       "8         4,5      1  0.003322\n",
       "9           5    212  0.704319\n",
       "10        5,4      1  0.003322"
      ]
     },
     "execution_count": 166,
     "metadata": {},
     "output_type": "execute_result"
    }
   ],
   "source": [
    "HA"
   ]
  },
  {
   "cell_type": "code",
   "execution_count": 167,
   "id": "bd044a20-bd56-4920-a114-de4e0e81c7f3",
   "metadata": {},
   "outputs": [],
   "source": [
    "### Word of Mouth"
   ]
  },
  {
   "cell_type": "code",
   "execution_count": null,
   "id": "abbfeca0-0aab-41c9-ba54-205824fe2b3e",
   "metadata": {},
   "outputs": [],
   "source": []
  }
 ],
 "metadata": {
  "kernelspec": {
   "display_name": "Python 3 (ipykernel)",
   "language": "python",
   "name": "python3"
  },
  "language_info": {
   "codemirror_mode": {
    "name": "ipython",
    "version": 3
   },
   "file_extension": ".py",
   "mimetype": "text/x-python",
   "name": "python",
   "nbconvert_exporter": "python",
   "pygments_lexer": "ipython3",
   "version": "3.12.4"
  }
 },
 "nbformat": 4,
 "nbformat_minor": 5
}
